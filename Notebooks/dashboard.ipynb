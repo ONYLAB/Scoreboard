{
 "cells": [
  {
   "cell_type": "markdown",
   "metadata": {
    "extensions": {
     "jupyter_dashboards": {
      "version": 1,
      "views": {
       "grid_default": {
        "col": 0,
        "height": 4,
        "hidden": false,
        "row": 0,
        "width": 15
       },
       "report_default": {
        "hidden": false
       }
      }
     }
    }
   },
   "source": [
    "<img src='https://i.imgur.com/QmqZv8W.png' width=150%>\n",
    "<div class='info'>\n",
    "Epidemiological models of COVID-19 forecast the number of future cases and deaths.\n",
    "Quantifying the accuracy of these models can help to inform public health decisions.\n",
    "    <b>COVIDForeca.st</b> scores the predictive ability of publicly available COVID-19 epidemiological models on the <a href=https://covid19forecasthub.org>COVID-19 Forecast Hub</a>.\n",
    "Our scoring system uses the posted forecast cumulative distributions to compute the log-likelihood for held-out COVID-19 positive cases and deaths.\n",
    "Scores are updated continuously as new data become available, and model performance is tracked over time.\n",
    "The leaderboard considers predictions from July 4th, 2020 and beyond, and includes only those models covering at least half of that timespan.\n",
    "</div>"
   ]
  },
  {
   "cell_type": "code",
   "execution_count": 46,
   "metadata": {
    "extensions": {
     "jupyter_dashboards": {
      "version": 1,
      "views": {
       "grid_default": {
        "col": 0,
        "height": 1,
        "hidden": true,
        "row": 0,
        "width": 1
       },
       "report_default": {
        "hidden": false
       }
      }
     }
    }
   },
   "outputs": [
    {
     "name": "stdout",
     "output_type": "stream",
     "text": [
      "The autoreload extension is already loaded. To reload it, use:\n",
      "  %reload_ext autoreload\n"
     ]
    }
   ],
   "source": [
    "%load_ext autoreload\n",
    "%autoreload 2\n",
    "%matplotlib inline\n",
    "#%config InlineBackend.figure_format = 'svg'\n",
    "import ipywidgets as ipyw\n",
    "from ipywidgets import HBox, VBox, Text, HTML, Label, AppLayout, IntSlider, IntRangeSlider, Output\n",
    "from IPython.display import display, clear_output, HTML\n",
    "import matplotlib.pyplot as plt\n",
    "import pandas as pd\n",
    "from pathlib import Path\n",
    "import qgrid\n",
    "import seaborn as sns\n",
    "import sys\n",
    "sns.set(font_scale=1)\n",
    "sns.set_style('whitegrid')\n",
    "\n",
    "sys.path.insert(0, '..')\n",
    "import Scoreboard19 as S19"
   ]
  },
  {
   "cell_type": "code",
   "execution_count": 30,
   "metadata": {
    "extensions": {
     "jupyter_dashboards": {
      "version": 1,
      "views": {
       "grid_default": {
        "col": 0,
        "height": 1,
        "hidden": true,
        "row": 0,
        "width": 1
       },
       "report_default": {
        "hidden": false
       }
      }
     }
    }
   },
   "outputs": [],
   "source": [
    "#US_cases = S19.read_observed('cases', writetocsv=True)\n",
    "#US_deaths = S19.read_observed('deaths', writetocsv=True)\n",
    "US_cases = S19.read_observed('cases', use_cache=True)\n",
    "US_deaths = S19.read_observed('deaths', use_cache=True)\n",
    "scoreboard_cases = pd.read_pickle(S19.data_dir / 'ScoreboardCases.pkl')\n",
    "scoreboard_deaths = pd.read_pickle(S19.data_dir / 'ScoreboardDeaths.pkl')\n",
    "scoreboard_cases = S19.fix_scoreboard(scoreboard_cases, kind='Case', quiet=True, plot=False)\n",
    "scoreboard_deaths = S19.fix_scoreboard(scoreboard_deaths, kind='Death', quiet=True, plot=False)"
   ]
  },
  {
   "cell_type": "code",
   "execution_count": 62,
   "metadata": {
    "extensions": {
     "jupyter_dashboards": {
      "version": 1,
      "views": {
       "grid_default": {
        "col": 0,
        "height": 7,
        "hidden": false,
        "row": 4,
        "width": 6
       },
       "report_default": {
        "hidden": false
       }
      }
     }
    }
   },
   "outputs": [
    {
     "data": {
      "application/vnd.jupyter.widget-view+json": {
       "model_id": "244030309b224a6f8914e4d8c6232648",
       "version_major": 2,
       "version_minor": 0
      },
      "text/plain": [
       "VBox(children=(IntSlider(value=3, continuous_update=False, description='Leaderboard Weeks Ahead', layout=Layou…"
      ]
     },
     "metadata": {},
     "output_type": "display_data"
    },
    {
     "data": {
      "text/html": [
       "\n",
       "<style>\n",
       ".widget-label {\n",
       "    text-align: center;\n",
       "    font-size: 150%;\n",
       "}\n",
       ".widget-readout {\n",
       "    text-align: center;\n",
       "    font-size: 150%;\n",
       "}\n",
       ".q-grid-container {\n",
       "    text-align: center;\n",
       "}\n",
       ".info {\n",
       "    font-size: 125%;\n",
       "}\n",
       ".caption {\n",
       "    font-size: 125%;\n",
       "}\n",
       "</style>\n"
      ],
      "text/plain": [
       "<IPython.core.display.HTML object>"
      ]
     },
     "metadata": {},
     "output_type": "display_data"
    }
   ],
   "source": [
    "def get_qgrid(scoreboard, weeks_ahead):\n",
    "    df = S19.getleaderboard(scoreboard, weeks_ahead, quiet=True)\n",
    "    df.columns = [x.title().replace('Of ', '').replace('Rankings', 'Rank').replace('Average', 'Mean').replace('Past ', '').replace('Scores', 'Score')\n",
    "                  for x in df.columns]\n",
    "    df.iloc[:, 1] = df.iloc[:, 1].round(2)\n",
    "    df.iloc[:, 2] = df.iloc[:, 2].round(1)\n",
    "    df['Team'] = df['Model'].apply(lambda x: x.split(':')[0])\n",
    "    df['Model'] = df['Model'].apply(lambda x: x.split(':')[1])\n",
    "    df = df.set_index('Team')\n",
    "    df = df.drop(['Deltaw', 'Forecasttype', 'Asofdate'], axis=1)\n",
    "    #df.index.name = \"Team:Model\"\n",
    "    return qgrid.show_grid(df, grid_options={'width': 450, 'forceFitColumns': True, 'defaultColumnWidth': 110})\n",
    "\n",
    "output_q_cases = Output()\n",
    "output_q_deaths = Output()\n",
    "\n",
    "def slide_1(slider_value):\n",
    "    weeks_ahead = slider_value['new']\n",
    "    \n",
    "    with output_q_cases:\n",
    "        q_cases = get_qgrid(scoreboard_cases, weeks_ahead)\n",
    "        q_cases.layout = ipyw.Layout(padding='10px', width='458px', align_items='center')\n",
    "        clear_output(wait=True)\n",
    "        display(q_cases)\n",
    "        \n",
    "slider_1 = IntSlider(value=3, min=1, max=6, description='Leaderboard Weeks Ahead', continuous_update=False)\n",
    "slider_1.style = {'description_width': 'initial'}\n",
    "slider_1.layout = ipyw.Layout(align_items='center', align_self='center', height='100px', width='90%')\n",
    "slider_1.observe(slide_1, names='value')\n",
    "centered = ipyw.Layout(align_items='center', align_self='center',\n",
    "                       padding='1px', border='1px', margin='1px')\n",
    "title_1 = Label('COVIDHub Model Rankings')\n",
    "d_1 = VBox([slider_1, output_q_cases, Label('Cases')], layout=centered)\n",
    "display(d_1)\n",
    "slider_1.value = 3\n",
    "slider_1.value = 4\n",
    "\n",
    "display(HTML(\"\"\"\n",
    "<style>\n",
    ".widget-label {\n",
    "    text-align: center;\n",
    "    font-size: 150%;\n",
    "}\n",
    ".widget-readout {\n",
    "    text-align: center;\n",
    "    font-size: 150%;\n",
    "}\n",
    ".q-grid-container {\n",
    "    text-align: center;\n",
    "}\n",
    ".info {\n",
    "    font-size: 125%;\n",
    "}\n",
    ".caption {\n",
    "    font-size: 125%;\n",
    "}\n",
    "</style>\n",
    "\"\"\"))"
   ]
  },
  {
   "cell_type": "code",
   "execution_count": 63,
   "metadata": {
    "extensions": {
     "jupyter_dashboards": {
      "version": 1,
      "views": {
       "grid_default": {
        "col": 6,
        "height": 7,
        "hidden": false,
        "row": 4,
        "width": 6
       },
       "report_default": {
        "hidden": false
       }
      }
     }
    }
   },
   "outputs": [
    {
     "data": {
      "application/vnd.jupyter.widget-view+json": {
       "model_id": "44bf0dc7a3cd41c5b07d4ccf7937a541",
       "version_major": 2,
       "version_minor": 0
      },
      "text/plain": [
       "VBox(children=(IntSlider(value=3, continuous_update=False, description='Leaderboard Weeks Ahead', layout=Layou…"
      ]
     },
     "metadata": {},
     "output_type": "display_data"
    }
   ],
   "source": [
    "output_q_deaths = Output()\n",
    "\n",
    "def slide_2(slider_value):\n",
    "    weeks_ahead = slider_value['new']\n",
    "    \n",
    "    with output_q_deaths:\n",
    "        q_deaths = get_qgrid(scoreboard_deaths, weeks_ahead)\n",
    "        q_deaths.layout = ipyw.Layout(padding='10px', width='458px', align_items='center')\n",
    "        clear_output(wait=True)\n",
    "        display(q_deaths)\n",
    "        \n",
    "slider_2 = IntSlider(value=3, min=1, max=6, description='Leaderboard Weeks Ahead', continuous_update=False)\n",
    "slider_2.style = {'description_width': 'initial'}\n",
    "slider_2.layout = ipyw.Layout(align_items='center', align_self='center', height='100px', width='90%')\n",
    "slider_2.observe(slide_2, names='value')\n",
    "centered = ipyw.Layout(align_items='center', align_self='center', padding='1px', border='1px', margin='1px')\n",
    "d_2 = VBox([slider_2, output_q_deaths, Label('Deaths')], layout=centered)\n",
    "display(d_2)\n",
    "slider_2.value = 3\n",
    "slider_2.value = 4"
   ]
  },
  {
   "cell_type": "code",
   "execution_count": 64,
   "metadata": {
    "extensions": {
     "jupyter_dashboards": {
      "version": 1,
      "views": {
       "grid_default": {
        "col": 0,
        "height": 8,
        "hidden": false,
        "row": 11,
        "width": 6
       },
       "report_default": {}
      }
     }
    }
   },
   "outputs": [
    {
     "data": {
      "application/vnd.jupyter.widget-view+json": {
       "model_id": "9d0c211ae04044b6afb8c6cebe33da7a",
       "version_major": 2,
       "version_minor": 0
      },
      "text/plain": [
       "VBox(children=(IntSlider(value=2, continuous_update=False, description='Weeks Ahead', layout=Layout(align_item…"
      ]
     },
     "metadata": {},
     "output_type": "display_data"
    }
   ],
   "source": [
    "title_3 = Label('Forecasts and Scores')\n",
    "slider_3 = IntSlider(value=2, min=1, max=6, description='Weeks Ahead', continuous_update=False)\n",
    "slider_3.style = {'description_width': 'initial'}\n",
    "slider_3.layout = ipyw.Layout(align_items='center', align_self='center', height='100px', width='90%')\n",
    "out_3 = Output()\n",
    "\n",
    "def slide_3(x):\n",
    "    weeks_ahead = x['new']\n",
    "    with out_3:\n",
    "        clear_output(wait=True)\n",
    "        S19.plotTD(scoreboard_cases, weeks_ahead, ['FDANIH:Sunweight', 'FDANIH:Sweight'])\n",
    "        plt.show()\n",
    "    \n",
    "slider_3.observe(slide_3, names='value')\n",
    "d_3 = VBox([slider_3, out_3], layout=centered)\n",
    "display(d_3)\n",
    "slider_3.value = 4"
   ]
  },
  {
   "cell_type": "code",
   "execution_count": 65,
   "metadata": {
    "extensions": {
     "jupyter_dashboards": {
      "version": 1,
      "views": {
       "grid_default": {
        "col": 6,
        "height": 8,
        "hidden": false,
        "row": 11,
        "width": 6
       },
       "report_default": {}
      }
     }
    }
   },
   "outputs": [
    {
     "data": {
      "application/vnd.jupyter.widget-view+json": {
       "model_id": "2abbfdec6ccb42b98e63e0c73fcff758",
       "version_major": 2,
       "version_minor": 0
      },
      "text/plain": [
       "VBox(children=(IntSlider(value=2, continuous_update=False, description='Weeks Ahead', layout=Layout(align_item…"
      ]
     },
     "metadata": {},
     "output_type": "display_data"
    }
   ],
   "source": [
    "title_4 = Label('Forecasts and Scores')\n",
    "slider_4 = IntSlider(value=2, min=1, max=6, description='Weeks Ahead', continuous_update=False)\n",
    "slider_4.style = {'description_width': 'initial'}\n",
    "slider_4.layout = ipyw.Layout(align_items='center', align_self='center', height='100px', width='90%')\n",
    "out_4 = Output()\n",
    "\n",
    "def slide_4(x):\n",
    "    weeks_ahead = x['new']\n",
    "    with out_4:\n",
    "        clear_output(wait=True)\n",
    "        S19.plotlongitudinal(US_cases, scoreboard_cases, 'Cases', weeks_ahead, ['COVIDhub:ensemble', 'FDANIH:Sweight'])\n",
    "        plt.show()\n",
    "    \n",
    "slider_4.observe(slide_4, names='value')\n",
    "d_4 = VBox([slider_4, out_4], layout=centered)\n",
    "display(d_4)\n",
    "slider_4.value = 4"
   ]
  },
  {
   "cell_type": "code",
   "execution_count": 41,
   "metadata": {
    "extensions": {
     "jupyter_dashboards": {
      "version": 1,
      "views": {
       "grid_default": {
        "col": 0,
        "height": 11,
        "hidden": false,
        "row": 19,
        "width": 6
       },
       "report_default": {}
      }
     }
    }
   },
   "outputs": [
    {
     "data": {
      "application/vnd.jupyter.widget-view+json": {
       "model_id": "e3e4a35bfae24f42bb5d70c0502b694f",
       "version_major": 2,
       "version_minor": 0
      },
      "text/plain": [
       "VBox(children=(IntSlider(value=4, continuous_update=False, description='Weeks Ahead', layout=Layout(align_item…"
      ]
     },
     "metadata": {},
     "output_type": "display_data"
    },
    {
     "data": {
      "text/html": [
       "<div class='caption'>\n",
       "<b>Forecast performance over time.</b>\n",
       "TOP FIGURES: Black solid curves represent the observed US weekly incidental case counts and US cumulative death counts, respectively. Other curves represent the median of the forecasts for the target end date made from 1 to 7-weeks prior to the target end dates.\n",
       "BOTTOM FIGURES: Curves represent the median of the forecast scores colored based on their forecasting horizon (1-week prior to 7-weeks prior color-matching to figures above). \n",
       "NOTE: Discontinuities in the score plots imply that the median value of the scores for a particular time-horizon is $-\\infty$, demonstrating the poor performance especially on the inflection points of the epidemiological curves.\n",
       "</div>"
      ],
      "text/plain": [
       "<IPython.core.display.HTML object>"
      ]
     },
     "metadata": {},
     "output_type": "display_data"
    }
   ],
   "source": [
    "title_5 = Label('Forecast Estimates')\n",
    "max_weeks_ahead = 7\n",
    "slider_5 = IntRangeSlider(value=[2, 6], min=1, max=max_weeks_ahead, description='Weeks Ahead', continuous_update=False)\n",
    "slider_5.style = {'description_width': 'initial'}\n",
    "slider_5.layout = ipyw.Layout(align_items='center', align_self='center', height='100px', width='70%')\n",
    "out_5 = Output()\n",
    "\n",
    "def slide_5(x):\n",
    "    numweeks_start, numweeks = x['new']\n",
    "    with out_5:\n",
    "        clear_output(wait=True)\n",
    "        S19.plotlongitudinalUNWEIGHTED(US_cases, scoreboard_cases, 'Cases', numweeks,\n",
    "                                       numweeks_start=numweeks_start, max_weeks_ahead=max_weeks_ahead+1)\n",
    "        plt.show()\n",
    "    \n",
    "slider_5.observe(slide_5, names='value')\n",
    "d_5 = VBox([slider_3, out_5], layout=centered)\n",
    "display(d_5)\n",
    "slider_5.value = (1, max_weeks_ahead)\n",
    "html = \"\"\"<div class='caption'>\n",
    "<b>Forecast performance over time.</b>\n",
    "TOP FIGURES: Black solid curves represent the observed US weekly incidental case counts.\n",
    "Other curves represent the median of the forecasts for the target end date made from\n",
    "1 to 7-weeks prior to the target end dates.\n",
    "BOTTOM FIGURES: Curves represent the median of the forecast scores colored based on their\n",
    "forecasting horizon (1-week prior to 7-weeks prior color-matching to figures above). \n",
    "NOTE: Discontinuities in the score plots imply that the median value of the scores\n",
    "for a particular time-horizon is $-\\infty$, demonstrating the poor performance especially\n",
    "on the inflection points of the epidemiological curves.\n",
    "</div>\"\"\"\n",
    "display(HTML(html))"
   ]
  },
  {
   "cell_type": "code",
   "execution_count": 42,
   "metadata": {
    "extensions": {
     "jupyter_dashboards": {
      "version": 1,
      "views": {
       "grid_default": {
        "col": 6,
        "height": 11,
        "hidden": false,
        "row": 19,
        "width": 6
       },
       "report_default": {}
      }
     }
    }
   },
   "outputs": [
    {
     "data": {
      "application/vnd.jupyter.widget-view+json": {
       "model_id": "1118a3d9cec648c8ab754bb4000dbf70",
       "version_major": 2,
       "version_minor": 0
      },
      "text/plain": [
       "VBox(children=(IntRangeSlider(value=(2, 6), continuous_update=False, description='Weeks Ahead', layout=Layout(…"
      ]
     },
     "metadata": {},
     "output_type": "display_data"
    },
    {
     "data": {
      "text/html": [
       "<div class='caption'>\n",
       "<b>Forecast performance over time.</b>\n",
       "TOP FIGURES: Black solid curves represent the observed US weekly incidental case counts and US cumulative death counts, respectively. Other curves represent the median of the forecasts for the target end date made from 1 to 7-weeks prior to the target end dates.\n",
       "BOTTOM FIGURES: Curves represent the median of the forecast scores colored based on their forecasting horizon (1-week prior to 7-weeks prior color-matching to figures above). \n",
       "NOTE: Discontinuities in the score plots imply that the median value of the scores for a particular time-horizon is $-\\infty$, demonstrating the poor performance especially on the inflection points of the epidemiological curves.\n",
       "</div>"
      ],
      "text/plain": [
       "<IPython.core.display.HTML object>"
      ]
     },
     "metadata": {},
     "output_type": "display_data"
    }
   ],
   "source": [
    "title_6 = Label('Forecast Estimates')\n",
    "max_weeks_ahead = 7\n",
    "slider_6 = IntRangeSlider(value=[2, 6], min=1, max=max_weeks_ahead, description='Weeks Ahead', continuous_update=False)\n",
    "slider_6.style = {'description_width': 'initial'}\n",
    "slider_6.layout = ipyw.Layout(align_items='center', align_self='center', height='100px', width='70%')\n",
    "out_6 = Output()\n",
    "\n",
    "def slide_6(x):\n",
    "    numweeks_start, numweeks = x['new']\n",
    "    with out_6:\n",
    "        clear_output(wait=True)\n",
    "        S19.plotlongitudinalUNWEIGHTED(US_deaths, scoreboard_deaths, 'Deaths', numweeks,\n",
    "                                       numweeks_start=numweeks_start, max_weeks_ahead=max_weeks_ahead+1)\n",
    "        plt.show()\n",
    "    \n",
    "slider_6.observe(slide_6, names='value')\n",
    "d_6 = VBox([slider_6, out_6], layout=centered)\n",
    "display(d_6)\n",
    "slider_6.value = (1, max_weeks_ahead)\n",
    "html = \"\"\"<div class='caption'>\n",
    "<b>Forecast performance over time.</b>\n",
    "TOP FIGURES: Black solid curves represent the observed US weekly incidental death counts.\n",
    "Other curves represent the median of the forecasts for the target end date made\n",
    "from 1 to 7-weeks prior to the target end dates.\n",
    "BOTTOM FIGURES: Curves represent the median of the forecast scores colored based on their\n",
    "forecasting horizon (1-week prior to 7-weeks prior color-matching to figures above). \n",
    "NOTE: Discontinuities in the score plots imply that the median value of the scores\n",
    "for a particular time-horizon is $-\\infty$, demonstrating the poor performance especially\n",
    "on the inflection points of the epidemiological curves.\n",
    "</div>\"\"\"\n",
    "display(HTML(html))"
   ]
  },
  {
   "cell_type": "code",
   "execution_count": 71,
   "metadata": {
    "extensions": {
     "jupyter_dashboards": {
      "version": 1,
      "views": {
       "grid_default": {
        "col": 0,
        "height": 6,
        "hidden": false,
        "row": 30,
        "width": 6
       },
       "report_default": {}
      }
     }
    }
   },
   "outputs": [
    {
     "data": {
      "application/vnd.jupyter.widget-view+json": {
       "model_id": "94872b5b75ef423bb6d352caa9cfa77f",
       "version_major": 2,
       "version_minor": 0
      },
      "text/plain": [
       "VBox(children=(Output(layout=Layout(align_items='center', align_self='center', border='1px', margin='1px', pad…"
      ]
     },
     "metadata": {},
     "output_type": "display_data"
    },
    {
     "data": {
      "text/html": [
       "\n",
       "<div class='caption'>\n",
       "<b>Scores over Time (Cases)</b>.\n",
       "(TOP) Scatter plot for all scores as a function of the forecast horizon\n",
       "(Weekly incidental case forecast scores).\n",
       "(BOTTOM) Histogram of weekly incidental case count forecasts.\n",
       "</div>\n"
      ],
      "text/plain": [
       "<IPython.core.display.HTML object>"
      ]
     },
     "execution_count": 71,
     "metadata": {},
     "output_type": "execute_result"
    }
   ],
   "source": [
    "out_7 = Output(layout=centered)\n",
    "with out_7:\n",
    "    clear_output(wait=True)\n",
    "    S19.plotallscoresdist(scoreboard_deaths, 'Case', interval='Weeks')\n",
    "    plt.show()\n",
    "d_7 = VBox([out_7], layout=centered)\n",
    "display(d_7)\n",
    "html = \"\"\"\n",
    "<div class='caption'>\n",
    "<b>Scores over Time (Cases)</b>.\n",
    "(TOP) Scatter plot for all scores as a function of the forecast horizon\n",
    "(Weekly incidental case forecast scores).\n",
    "(BOTTOM) Histogram of weekly incidental case count forecasts.\n",
    "</div>\n",
    "\"\"\"\n",
    "HTML(html)"
   ]
  },
  {
   "cell_type": "code",
   "execution_count": 45,
   "metadata": {
    "extensions": {
     "jupyter_dashboards": {
      "version": 1,
      "views": {
       "grid_default": {
        "col": 6,
        "height": 6,
        "hidden": false,
        "row": 30,
        "width": 6
       },
       "report_default": {}
      }
     }
    }
   },
   "outputs": [
    {
     "data": {
      "application/vnd.jupyter.widget-view+json": {
       "model_id": "2b245939ee1946d9bb50683c887ec460",
       "version_major": 2,
       "version_minor": 0
      },
      "text/plain": [
       "VBox(children=(Output(layout=Layout(align_items='center', align_self='center', border='1px', margin='1px', pad…"
      ]
     },
     "metadata": {},
     "output_type": "display_data"
    },
    {
     "data": {
      "text/html": [
       "\n",
       "<div class='caption'>\n",
       "<b>Scores over Time (Deaths)</b>.\n",
       "(TOP) Scatter plot for all scores as a function of the forecast horizon\n",
       "(Weekly incidental death forecast scores).\n",
       "(BOTTOM) Histogram of weekly incidental death forecasts.\n",
       "</div>\n"
      ],
      "text/plain": [
       "<IPython.core.display.HTML object>"
      ]
     },
     "execution_count": 45,
     "metadata": {},
     "output_type": "execute_result"
    }
   ],
   "source": [
    "#title_4 = Label('Scores over Time')\n",
    "out_8 = Output(layout=centered)\n",
    "with out_8:\n",
    "    clear_output(wait=True)\n",
    "    S19.plotallscoresdist(scoreboard_deaths, 'Death', interval='Weeks')\n",
    "    plt.show()\n",
    "d_8 = VBox([out_8], layout=centered)\n",
    "display(d_8)\n",
    "html = \"\"\"\n",
    "<div class='caption'>\n",
    "<b>Scores over Time (Deaths)</b>.\n",
    "(TOP) Scatter plot for all scores as a function of the forecast horizon\n",
    "(Weekly incidental death forecast scores).\n",
    "(BOTTOM) Histogram of weekly incidental death forecasts.\n",
    "</div>\n",
    "\"\"\"\n",
    "HTML(html)"
   ]
  }
 ],
 "metadata": {
  "jupytext": {
   "formats": "ipynb,Rmd"
  },
  "kernelspec": {
   "display_name": "Python 3",
   "language": "python",
   "name": "python3"
  },
  "language_info": {
   "codemirror_mode": {
    "name": "ipython",
    "version": 3
   },
   "file_extension": ".py",
   "mimetype": "text/x-python",
   "name": "python",
   "nbconvert_exporter": "python",
   "pygments_lexer": "ipython3",
   "version": "3.8.3"
  },
  "title": "COVID Forecast Dashboard"
 },
 "nbformat": 4,
 "nbformat_minor": 4
}
