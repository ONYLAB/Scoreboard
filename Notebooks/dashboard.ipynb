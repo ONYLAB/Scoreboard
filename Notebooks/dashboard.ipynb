{
 "cells": [
  {
   "cell_type": "markdown",
   "metadata": {
    "extensions": {
     "jupyter_dashboards": {
      "version": 1,
      "views": {
       "grid_default": {
        "col": 0,
        "height": 3,
        "hidden": false,
        "row": 0,
        "width": 12
       },
       "report_default": {
        "hidden": false
       }
      }
     }
    }
   },
   "source": [
    "<img src='https://i.imgur.com/QmqZv8W.png' width=150%>\n",
    "<div class='info'>\n",
    "Epidemiological models of COVID-19 forecast the number of future cases and deaths.\n",
    "Quantifying the accuracy of these models can help to inform public health decisions.\n",
    "    <b>COVIDForeca.st</b> scores the predictive ability of publicly available COVID-19 epidemiological models on the <a href=https://covid19forecasthub.org>COVID-19 Forecast Hub</a>.\n",
    "Our scoring system uses the posted forecast cumulative distributions to compute the log-likelihood for held-out COVID-19 positive cases and deaths.\n",
    "Scores are updated continuously as new data become available, and model performance is tracked over time.\n",
    "The leaderboard considers predictions from July 4th, 2020 and beyond, and includes only those models covering at least half of that timespan.\n",
    "</div>"
   ]
  },
  {
   "cell_type": "code",
   "execution_count": 1,
   "metadata": {
    "extensions": {
     "jupyter_dashboards": {
      "version": 1,
      "views": {
       "grid_default": {
        "col": 0,
        "height": 1,
        "hidden": true,
        "row": 0,
        "width": 1
       },
       "report_default": {
        "hidden": false
       }
      }
     }
    }
   },
   "outputs": [],
   "source": [
    "%load_ext autoreload\n",
    "%autoreload 2\n",
    "%matplotlib inline\n",
    "#%config InlineBackend.figure_format = 'svg'\n",
    "import ipywidgets as ipyw\n",
    "from ipywidgets import HBox, VBox, Text, HTML, Label, AppLayout, IntSlider, IntRangeSlider, Dropdown, Output\n",
    "from IPython.display import display, clear_output, HTML\n",
    "import matplotlib.pyplot as plt\n",
    "import pandas as pd\n",
    "from pathlib import Path\n",
    "import qgrid\n",
    "import seaborn as sns\n",
    "import sys\n",
    "sns.set(font_scale=1)\n",
    "sns.set_style('whitegrid')\n",
    "\n",
    "sys.path.insert(0, '..')\n",
    "import Scoreboard19 as S19"
   ]
  },
  {
   "cell_type": "code",
   "execution_count": 26,
   "metadata": {
    "extensions": {
     "jupyter_dashboards": {
      "version": 1,
      "views": {
       "grid_default": {
        "col": 0,
        "height": 1,
        "hidden": true,
        "row": 0,
        "width": 1
       },
       "report_default": {
        "hidden": false
       }
      }
     }
    }
   },
   "outputs": [],
   "source": [
    "#US_cases = S19.read_observed('cases', writetocsv=True)\n",
    "#US_deaths = S19.read_observed('deaths', writetocsv=True)\n",
    "US_cases = S19.read_observed('cases', use_cache=True)\n",
    "US_deaths = S19.read_observed('deaths', use_cache=True)\n",
    "scoreboard_cases = pd.read_pickle(S19.data_dir / 'ScoreboardCases.pkl')\n",
    "scoreboard_deaths = pd.read_pickle(S19.data_dir / 'ScoreboardDeaths.pkl')\n",
    "scoreboard_cases = S19.fix_scoreboard(scoreboard_cases, kind='Case', quiet=True, plot=False)\n",
    "scoreboard_deaths = S19.fix_scoreboard(scoreboard_deaths, kind='Death', quiet=True, plot=False)\n",
    "centered = ipyw.Layout(align_items='center', align_self='center',\n",
    "                       padding='1px', border='1px', margin='1px')"
   ]
  },
  {
   "cell_type": "code",
   "execution_count": 42,
   "metadata": {
    "extensions": {
     "jupyter_dashboards": {
      "version": 1,
      "views": {
       "grid_default": {
        "col": 0,
        "height": 1,
        "hidden": true,
        "row": 0,
        "width": 1
       },
       "report_default": {
        "hidden": false
       }
      }
     }
    }
   },
   "outputs": [],
   "source": [
    "def get_qgrid(scoreboard, weeks_ahead):\n",
    "    df = S19.getleaderboard(scoreboard, weeks_ahead, quiet=True)\n",
    "    df.columns = [x.title().replace('Of ', '').replace('Rankings', 'Rank').replace('Average', 'Mean').replace('Past ', '').replace('Scores', 'Score')\n",
    "                  for x in df.columns]\n",
    "    df.iloc[:, 1] = df.iloc[:, 1].round(2)\n",
    "    df.iloc[:, 2] = df.iloc[:, 2].round(1)\n",
    "    df['Team'] = df['Model'].apply(lambda x: x.split(':')[0])\n",
    "    df['Model'] = df['Model'].apply(lambda x: x.split(':')[1])\n",
    "    df = df.set_index('Team')\n",
    "    df = df.drop(['Deltaw', 'Forecasttype', 'Asofdate'], axis=1)\n",
    "    #df.index.name = \"Team:Model\"\n",
    "    return qgrid.show_grid(df, grid_options={'width': 450, 'forceFitColumns': True, 'defaultColumnWidth': 110})\n",
    "\n",
    "def table_widgets(scoreboard, title):\n",
    "    \"\"\"df should be e.g. scoreboard_cases\"\"\"\n",
    "    output = Output()\n",
    "\n",
    "    def slide(slider_value):\n",
    "        weeks_ahead = slider_value['new']\n",
    "    \n",
    "        with output:\n",
    "            q = get_qgrid(scoreboard, weeks_ahead)\n",
    "            q.layout = ipyw.Layout(padding='10px', width='458px', align_items='center')\n",
    "            clear_output(wait=True)\n",
    "            display(q)\n",
    "        \n",
    "    slider = IntSlider(value=3, min=1, max=6, description='Leaderboard Weeks Ahead', continuous_update=False)\n",
    "    slider.style = {'description_width': 'initial'}\n",
    "    slider.layout = ipyw.Layout(align_items='center', align_self='center', height='100px', width='90%')\n",
    "    slider.observe(slide, names='value')\n",
    "    d = VBox([slider, output, Label(title)], layout=centered)\n",
    "    d.children[0].value = 3  # First one doesn't manager to trigger the change\n",
    "    d.children[0].value = 4  # But second one does\n",
    "    return d"
   ]
  },
  {
   "cell_type": "code",
   "execution_count": 43,
   "metadata": {
    "extensions": {
     "jupyter_dashboards": {
      "version": 1,
      "views": {
       "grid_default": {
        "col": 0,
        "height": 5,
        "hidden": false,
        "row": 3,
        "width": 6
       },
       "report_default": {
        "hidden": false
       }
      }
     }
    }
   },
   "outputs": [
    {
     "data": {
      "application/vnd.jupyter.widget-view+json": {
       "model_id": "5b1f419f3bd0416f92665f40b5c098b6",
       "version_major": 2,
       "version_minor": 0
      },
      "text/plain": [
       "VBox(children=(IntSlider(value=4, continuous_update=False, description='Leaderboard Weeks Ahead', layout=Layou…"
      ]
     },
     "metadata": {},
     "output_type": "display_data"
    },
    {
     "data": {
      "text/html": [
       "\n",
       "<style>\n",
       ".widget-label {\n",
       "    text-align: center;\n",
       "    font-size: 150%;\n",
       "}\n",
       ".widget-readout {\n",
       "    text-align: center;\n",
       "    font-size: 150%;\n",
       "}\n",
       ".q-grid-container {\n",
       "    text-align: center;\n",
       "}\n",
       ".info {\n",
       "    font-size: 125%;\n",
       "}\n",
       ".caption {\n",
       "    font-size: 125%;\n",
       "}\n",
       "</style>\n"
      ],
      "text/plain": [
       "<IPython.core.display.HTML object>"
      ]
     },
     "metadata": {},
     "output_type": "display_data"
    }
   ],
   "source": [
    "d = table_widgets(scoreboard_cases, 'US weekly incidental case count forecast scores')\n",
    "display(d)\n",
    "\n",
    "\"\"\"Put this CSS here so it forces it to render but doesn't take up it's own gridstack card\"\"\"\n",
    "display(HTML(\"\"\"\n",
    "<style>\n",
    ".widget-label {\n",
    "    text-align: center;\n",
    "    font-size: 150%;\n",
    "}\n",
    ".widget-readout {\n",
    "    text-align: center;\n",
    "    font-size: 150%;\n",
    "}\n",
    ".q-grid-container {\n",
    "    text-align: center;\n",
    "}\n",
    ".info {\n",
    "    font-size: 125%;\n",
    "}\n",
    ".caption {\n",
    "    font-size: 125%;\n",
    "}\n",
    "</style>\n",
    "\"\"\"))"
   ]
  },
  {
   "cell_type": "code",
   "execution_count": 44,
   "metadata": {
    "extensions": {
     "jupyter_dashboards": {
      "version": 1,
      "views": {
       "grid_default": {
        "col": 6,
        "height": 5,
        "hidden": false,
        "row": 3,
        "width": 6
       },
       "report_default": {
        "hidden": false
       }
      }
     }
    }
   },
   "outputs": [
    {
     "data": {
      "application/vnd.jupyter.widget-view+json": {
       "model_id": "683fef9cf5c349e6afae0b8495342d86",
       "version_major": 2,
       "version_minor": 0
      },
      "text/plain": [
       "VBox(children=(IntSlider(value=4, continuous_update=False, description='Leaderboard Weeks Ahead', layout=Layou…"
      ]
     },
     "metadata": {},
     "output_type": "display_data"
    }
   ],
   "source": [
    "d = table_widgets(scoreboard_deaths, 'US weekly cumulative death count forecast scores')\n",
    "display(d)"
   ]
  },
  {
   "cell_type": "code",
   "execution_count": 76,
   "metadata": {
    "extensions": {
     "jupyter_dashboards": {
      "version": 1,
      "views": {
       "grid_default": {
        "col": 0,
        "height": 1,
        "hidden": true,
        "row": 0,
        "width": 1
       },
       "report_default": {}
      }
     }
    }
   },
   "outputs": [],
   "source": [
    "def scores_by_date(scoreboard, title):\n",
    "    #title = Label(title)\n",
    "    slider = IntSlider(value=2, min=1, max=6, description='Weeks Ahead', continuous_update=False)\n",
    "    slider.style = {'description_width': 'initial'}\n",
    "    slider.layout = ipyw.Layout(align_items='center', align_self='center', height='100px', width='90%')\n",
    "    models = list(scoreboard['model'].unique())\n",
    "    dropdown_a = Dropdown(options=[''] + models, value='FDANIH:Sunweight', description=\"Model A\")\n",
    "    dropdown_a.layout = ipyw.Layout(align_items='center', align_self='center', height='40px', width='70%')\n",
    "    dropdown_b = Dropdown(options=[''] + models, value='FDANIH:Sweight', description=\"Model B\")\n",
    "    dropdown_b.layout = ipyw.Layout(align_items='center', align_self='center', height='40px', width='70%')\n",
    "    out = Output()\n",
    "\n",
    "    def update(x):\n",
    "        selected_models = (dropdown_a.value, dropdown_b.value)\n",
    "        selected_models = list(set([m for m in selected_models if m in models]))\n",
    "        weeks_ahead = slider.value\n",
    "        with out:\n",
    "            clear_output(wait=True)\n",
    "            S19.plotTD(scoreboard, weeks_ahead, selected_models)\n",
    "            plt.show()\n",
    "\n",
    "    slider.observe(update, names='value')\n",
    "    dropdown_a.observe(update)\n",
    "    dropdown_b.observe(update)\n",
    "    d = VBox([slider, HBox([dropdown_a, dropdown_b]), out], layout=centered)\n",
    "    display(d)\n",
    "    slider.value = 4\n",
    "    html = \"\"\"\n",
    "    <div class='caption'>\n",
    "    <b>%s.</b>\n",
    "    </div>\n",
    "    \"\"\" % title\n",
    "    display(HTML(html))"
   ]
  },
  {
   "cell_type": "code",
   "execution_count": 77,
   "metadata": {
    "extensions": {
     "jupyter_dashboards": {
      "version": 1,
      "views": {
       "grid_default": {
        "col": 0,
        "height": 8,
        "hidden": false,
        "row": 8,
        "width": 6
       },
       "report_default": {}
      }
     }
    }
   },
   "outputs": [
    {
     "data": {
      "application/vnd.jupyter.widget-view+json": {
       "model_id": "c850d4af573746f990cde3e7b6911713",
       "version_major": 2,
       "version_minor": 0
      },
      "text/plain": [
       "VBox(children=(IntSlider(value=2, continuous_update=False, description='Weeks Ahead', layout=Layout(align_item…"
      ]
     },
     "metadata": {},
     "output_type": "display_data"
    },
    {
     "data": {
      "text/html": [
       "\n",
       "    <div class='caption'>\n",
       "    <b>Case Count Forecast Scores by Week.</b>\n",
       "    </div>\n",
       "    "
      ],
      "text/plain": [
       "<IPython.core.display.HTML object>"
      ]
     },
     "metadata": {},
     "output_type": "display_data"
    }
   ],
   "source": [
    "scores_by_date(scoreboard_cases, \"Case Count Forecast Scores by Week\")"
   ]
  },
  {
   "cell_type": "code",
   "execution_count": 78,
   "metadata": {
    "extensions": {
     "jupyter_dashboards": {
      "version": 1,
      "views": {
       "grid_default": {
        "col": 6,
        "height": 8,
        "hidden": false,
        "row": 8,
        "width": 6
       },
       "report_default": {}
      }
     }
    }
   },
   "outputs": [
    {
     "data": {
      "application/vnd.jupyter.widget-view+json": {
       "model_id": "33b1442b72e146769166e50c4e97ddb5",
       "version_major": 2,
       "version_minor": 0
      },
      "text/plain": [
       "VBox(children=(IntSlider(value=2, continuous_update=False, description='Weeks Ahead', layout=Layout(align_item…"
      ]
     },
     "metadata": {},
     "output_type": "display_data"
    },
    {
     "data": {
      "text/html": [
       "\n",
       "    <div class='caption'>\n",
       "    <b>Death Count Forecast Scores by Week.</b>\n",
       "    </div>\n",
       "    "
      ],
      "text/plain": [
       "<IPython.core.display.HTML object>"
      ]
     },
     "metadata": {},
     "output_type": "display_data"
    }
   ],
   "source": [
    "scores_by_date(scoreboard_deaths, \"Death Count Forecast Scores by Week\")"
   ]
  },
  {
   "cell_type": "code",
   "execution_count": 67,
   "metadata": {
    "extensions": {
     "jupyter_dashboards": {
      "version": 1,
      "views": {
       "grid_default": {
        "col": 0,
        "height": 1,
        "hidden": true,
        "row": 0,
        "width": 1
       },
       "report_default": {}
      }
     }
    }
   },
   "outputs": [],
   "source": [
    "def scores_by_date_range(scoreboard, US, kind, title, max_weeks_ahead=7):\n",
    "    title = Label(title)\n",
    "    slider = IntRangeSlider(value=[2, 6], min=1, max=max_weeks_ahead, description='Weeks Ahead', continuous_update=False)\n",
    "    slider.style = {'description_width': 'initial'}\n",
    "    slider.layout = ipyw.Layout(align_items='center', align_self='center', height='100px', width='70%')\n",
    "    out = Output()\n",
    "\n",
    "    def slide(x):\n",
    "        numweeks_start, numweeks = x['new']\n",
    "        with out:\n",
    "            clear_output(wait=True)\n",
    "            S19.plotlongitudinalUNWEIGHTED(US, scoreboard, kind, numweeks,\n",
    "                                           numweeks_start=numweeks_start, max_weeks_ahead=max_weeks_ahead+1)\n",
    "            plt.show()\n",
    "\n",
    "    slider.observe(slide, names='value')\n",
    "    d = VBox([slider, out], layout=centered)\n",
    "    display(d)\n",
    "    slider.value = (1, max_weeks_ahead)\n",
    "    html = \"\"\"<div class='caption'>\n",
    "    <b>%s Forecast performance over time.</b>\n",
    "    TOP FIGURES: Black solid curves represent the observed US weekly %s counts.\n",
    "    Other curves represent the median of the forecasts for the target end date made from\n",
    "    1 to 7-weeks prior to the target end dates.\n",
    "    BOTTOM FIGURES: Curves represent the median of the forecast scores colored based on their\n",
    "    forecasting horizon (1-week prior to 7-weeks prior color-matching to figures above). \n",
    "    NOTE: Discontinuities in the score plots imply that the median value of the scores\n",
    "    for a particular time-horizon is $-\\infty$, demonstrating the poor performance especially\n",
    "    on the inflection points of the epidemiological curves.\n",
    "    </div>\"\"\" % (kind.title(), kind[:-1].lower())\n",
    "    display(HTML(html))"
   ]
  },
  {
   "cell_type": "code",
   "execution_count": 68,
   "metadata": {
    "extensions": {
     "jupyter_dashboards": {
      "version": 1,
      "views": {
       "grid_default": {
        "col": 0,
        "height": 7,
        "hidden": false,
        "row": 16,
        "width": 6
       },
       "report_default": {}
      }
     }
    }
   },
   "outputs": [
    {
     "data": {
      "application/vnd.jupyter.widget-view+json": {
       "model_id": "a0b6ab42a0994f9688462cd7ad7f65e6",
       "version_major": 2,
       "version_minor": 0
      },
      "text/plain": [
       "VBox(children=(IntRangeSlider(value=(2, 6), continuous_update=False, description='Weeks Ahead', layout=Layout(…"
      ]
     },
     "metadata": {},
     "output_type": "display_data"
    },
    {
     "data": {
      "text/html": [
       "<div class='caption'>\n",
       "    <b>Cases Forecast performance over time.</b>\n",
       "    TOP FIGURES: Black solid curves represent the observed US weekly case counts.\n",
       "    Other curves represent the median of the forecasts for the target end date made from\n",
       "    1 to 7-weeks prior to the target end dates.\n",
       "    BOTTOM FIGURES: Curves represent the median of the forecast scores colored based on their\n",
       "    forecasting horizon (1-week prior to 7-weeks prior color-matching to figures above). \n",
       "    NOTE: Discontinuities in the score plots imply that the median value of the scores\n",
       "    for a particular time-horizon is $-\\infty$, demonstrating the poor performance especially\n",
       "    on the inflection points of the epidemiological curves.\n",
       "    </div>"
      ],
      "text/plain": [
       "<IPython.core.display.HTML object>"
      ]
     },
     "metadata": {},
     "output_type": "display_data"
    }
   ],
   "source": [
    "scores_by_date_range(scoreboard_cases, US_cases, \"Cases\", \"Cases Forecast\")"
   ]
  },
  {
   "cell_type": "code",
   "execution_count": 69,
   "metadata": {
    "extensions": {
     "jupyter_dashboards": {
      "version": 1,
      "views": {
       "grid_default": {
        "col": 6,
        "height": 7,
        "hidden": false,
        "row": 16,
        "width": 6
       },
       "report_default": {}
      }
     }
    }
   },
   "outputs": [
    {
     "data": {
      "application/vnd.jupyter.widget-view+json": {
       "model_id": "53b3a8fa36774a7eb3d3850f869e52d2",
       "version_major": 2,
       "version_minor": 0
      },
      "text/plain": [
       "VBox(children=(IntRangeSlider(value=(2, 6), continuous_update=False, description='Weeks Ahead', layout=Layout(…"
      ]
     },
     "metadata": {},
     "output_type": "display_data"
    },
    {
     "data": {
      "text/html": [
       "<div class='caption'>\n",
       "    <b>Deaths Forecast performance over time.</b>\n",
       "    TOP FIGURES: Black solid curves represent the observed US weekly death counts.\n",
       "    Other curves represent the median of the forecasts for the target end date made from\n",
       "    1 to 7-weeks prior to the target end dates.\n",
       "    BOTTOM FIGURES: Curves represent the median of the forecast scores colored based on their\n",
       "    forecasting horizon (1-week prior to 7-weeks prior color-matching to figures above). \n",
       "    NOTE: Discontinuities in the score plots imply that the median value of the scores\n",
       "    for a particular time-horizon is $-\\infty$, demonstrating the poor performance especially\n",
       "    on the inflection points of the epidemiological curves.\n",
       "    </div>"
      ],
      "text/plain": [
       "<IPython.core.display.HTML object>"
      ]
     },
     "metadata": {},
     "output_type": "display_data"
    }
   ],
   "source": [
    "scores_by_date_range(scoreboard_deaths, US_deaths, \"Deaths\", \"Deaths Forecast\")"
   ]
  },
  {
   "cell_type": "code",
   "execution_count": 62,
   "metadata": {
    "extensions": {
     "jupyter_dashboards": {
      "version": 1,
      "views": {
       "grid_default": {
        "col": 0,
        "height": 1,
        "hidden": true,
        "row": 0,
        "width": 1
       },
       "report_default": {}
      }
     }
    }
   },
   "outputs": [],
   "source": [
    "def all_scores_dist(scoreboard, kind):\n",
    "    out = Output(layout=centered)\n",
    "    with out:\n",
    "        clear_output(wait=True)\n",
    "        S19.plotallscoresdist(scoreboard, kind, interval='Weeks')\n",
    "        plt.show()\n",
    "    html = \"\"\"\n",
    "    <div class='caption'>\n",
    "    <b>Scores over Time (%ss)</b>.\n",
    "    (TOP) Scatter plot for all scores as a function of the forecast horizon\n",
    "    (Weekly incidental %s forecast scores).\n",
    "    (BOTTOM) Histogram of weekly %s count forecasts.\n",
    "    </div>\n",
    "    \"\"\" % (kind.title(), kind.lower(), kind.lower())\n",
    "    d = VBox([out], layout=centered)\n",
    "    display(d)\n",
    "    display(HTML(html))"
   ]
  },
  {
   "cell_type": "code",
   "execution_count": 63,
   "metadata": {
    "extensions": {
     "jupyter_dashboards": {
      "version": 1,
      "views": {
       "grid_default": {
        "col": 0,
        "height": 5,
        "hidden": false,
        "row": 23,
        "width": 6
       },
       "report_default": {}
      }
     }
    }
   },
   "outputs": [
    {
     "data": {
      "application/vnd.jupyter.widget-view+json": {
       "model_id": "4a6dae5275fd476db774773a8b8c1c96",
       "version_major": 2,
       "version_minor": 0
      },
      "text/plain": [
       "VBox(children=(Output(layout=Layout(align_items='center', align_self='center', border='1px', margin='1px', pad…"
      ]
     },
     "metadata": {},
     "output_type": "display_data"
    },
    {
     "data": {
      "text/html": [
       "\n",
       "    <div class='caption'>\n",
       "    <b>Scores over Time (Cases)</b>.\n",
       "    (TOP) Scatter plot for all scores as a function of the forecast horizon\n",
       "    (Weekly incidental case forecast scores).\n",
       "    (BOTTOM) Histogram of weekly case count forecasts.\n",
       "    </div>\n",
       "    "
      ],
      "text/plain": [
       "<IPython.core.display.HTML object>"
      ]
     },
     "metadata": {},
     "output_type": "display_data"
    }
   ],
   "source": [
    "all_scores_dist(scoreboard_cases, \"Case\")"
   ]
  },
  {
   "cell_type": "code",
   "execution_count": 64,
   "metadata": {
    "extensions": {
     "jupyter_dashboards": {
      "version": 1,
      "views": {
       "grid_default": {
        "col": 6,
        "height": 5,
        "hidden": false,
        "row": 23,
        "width": 6
       },
       "report_default": {}
      }
     }
    }
   },
   "outputs": [
    {
     "data": {
      "application/vnd.jupyter.widget-view+json": {
       "model_id": "e36d144076c94c5181ea32d1a7489e85",
       "version_major": 2,
       "version_minor": 0
      },
      "text/plain": [
       "VBox(children=(Output(layout=Layout(align_items='center', align_self='center', border='1px', margin='1px', pad…"
      ]
     },
     "metadata": {},
     "output_type": "display_data"
    },
    {
     "data": {
      "text/html": [
       "\n",
       "    <div class='caption'>\n",
       "    <b>Scores over Time (Deaths)</b>.\n",
       "    (TOP) Scatter plot for all scores as a function of the forecast horizon\n",
       "    (Weekly incidental death forecast scores).\n",
       "    (BOTTOM) Histogram of weekly death count forecasts.\n",
       "    </div>\n",
       "    "
      ],
      "text/plain": [
       "<IPython.core.display.HTML object>"
      ]
     },
     "metadata": {},
     "output_type": "display_data"
    }
   ],
   "source": [
    "all_scores_dist(scoreboard_cases, \"Death\")"
   ]
  }
 ],
 "metadata": {
  "jupytext": {
   "formats": "ipynb,Rmd"
  },
  "kernelspec": {
   "display_name": "Python 3",
   "language": "python",
   "name": "python3"
  },
  "language_info": {
   "codemirror_mode": {
    "name": "ipython",
    "version": 3
   },
   "file_extension": ".py",
   "mimetype": "text/x-python",
   "name": "python",
   "nbconvert_exporter": "python",
   "pygments_lexer": "ipython3",
   "version": "3.8.3"
  },
  "title": "COVID Forecast Dashboard"
 },
 "nbformat": 4,
 "nbformat_minor": 4
}
