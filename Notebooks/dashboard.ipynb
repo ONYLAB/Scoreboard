{
 "cells": [
  {
   "cell_type": "code",
   "execution_count": 1,
   "metadata": {},
   "outputs": [],
   "source": [
    "import pandas as pd\n",
    "from pathlib import Path\n",
    "import qgrid\n",
    "import sys\n",
    "\n",
    "sys.path.insert(0, '..')\n",
    "import Scoreboard19 as S19"
   ]
  },
  {
   "cell_type": "code",
   "execution_count": 2,
   "metadata": {},
   "outputs": [],
   "source": [
    "S19.figures_dir = Path('../Figures').resolve()\n",
    "S19.data_dir = Path('../Data').resolve()"
   ]
  },
  {
   "cell_type": "code",
   "execution_count": 3,
   "metadata": {},
   "outputs": [],
   "source": [
    "regenerate = False\n",
    "if regenerate:\n",
    "    case_forecasts = S19.getscoreboard(US_cases, 'Case', '../Data/ScoreboardCases.pkl')\n",
    "    case_forecasts.to_pickle('../Data/ModelsANDForecasts.pkl')\n",
    "    death_forecasts = S19.getscoreboard(US_deaths,'Death','../Data/ScoreboardDeaths.pkl')"
   ]
  },
  {
   "cell_type": "code",
   "execution_count": 4,
   "metadata": {},
   "outputs": [],
   "source": [
    "#US_cases = S19.readobservedcases()\n",
    "#US_deaths = S19.readobserveddeaths()"
   ]
  },
  {
   "cell_type": "code",
   "execution_count": 5,
   "metadata": {},
   "outputs": [],
   "source": [
    "#FirstForecasts = pd.read_pickle(S19.data_dir / 'ModelsANDForecasts.pkl')\n",
    "#S19.numberofteamsincovidhub(FirstForecasts, S19.figures_dir)"
   ]
  },
  {
   "cell_type": "code",
   "execution_count": 6,
   "metadata": {},
   "outputs": [],
   "source": [
    "scoreboard_cases = pd.read_pickle(S19.data_dir / 'ScoreboardCases.pkl')\n",
    "scoreboard_deaths = pd.read_pickle(S19.data_dir / 'ScoreboardDeaths.pkl')"
   ]
  },
  {
   "cell_type": "code",
   "execution_count": 7,
   "metadata": {},
   "outputs": [],
   "source": [
    "#%%capture cap --no-stderr\n",
    "#themodels = ScoreboardCases['model'].unique()\n",
    "#for i in range(0,len(themodels)):\n",
    "#    print(themodels[i])"
   ]
  },
  {
   "cell_type": "code",
   "execution_count": 8,
   "metadata": {},
   "outputs": [],
   "source": [
    "#Writing out all the models in the scoreboard into a text file\n",
    "#with open('../INCCASE_Models.txt', 'w') as f:\n",
    "#    f.write(cap.stdout)"
   ]
  },
  {
   "cell_type": "code",
   "execution_count": 9,
   "metadata": {},
   "outputs": [],
   "source": [
    "scoreboard_cases = S19.fix_scoreboard(scoreboard_cases, kind='Case', quiet=True, plot=False)"
   ]
  },
  {
   "cell_type": "code",
   "execution_count": 10,
   "metadata": {},
   "outputs": [],
   "source": [
    "scoreboard_deaths = S19.fix_scoreboard(scoreboard_deaths, kind='Death', quiet=True, plot=False)"
   ]
  },
  {
   "cell_type": "code",
   "execution_count": 11,
   "metadata": {},
   "outputs": [],
   "source": [
    "#S19.plotallscoresdist(ScoreboardCases, 'Case');"
   ]
  },
  {
   "cell_type": "code",
   "execution_count": 12,
   "metadata": {},
   "outputs": [],
   "source": [
    "#S19.plotlongitudinalALL(US_cases, ScoreboardCases, 'Cases', 1)"
   ]
  },
  {
   "cell_type": "code",
   "execution_count": 13,
   "metadata": {},
   "outputs": [],
   "source": [
    "#S19.plotlongitudinalALL(US_cases, ScoreboardCases, 'Cases', 4)"
   ]
  },
  {
   "cell_type": "code",
   "execution_count": 14,
   "metadata": {},
   "outputs": [],
   "source": [
    "#S19.plotlongitudinal(US_cases, ScoreboardCases, 'Cases', 1, ['BPagano:RtDriven'])"
   ]
  },
  {
   "cell_type": "code",
   "execution_count": 15,
   "metadata": {},
   "outputs": [],
   "source": [
    "#S19.plotlongitudinal(US_cases, ScoreboardCases, 'Cases', 1, ['COVIDhub:ensemble'])"
   ]
  },
  {
   "cell_type": "code",
   "execution_count": 16,
   "metadata": {},
   "outputs": [],
   "source": [
    "#S19.plotlongitudinal(US_cases, ScoreboardCases, 'Cases', 1, ['COVIDhub:baseline'])"
   ]
  },
  {
   "cell_type": "code",
   "execution_count": 17,
   "metadata": {},
   "outputs": [],
   "source": [
    "#S19.plotlongitudinal(US_cases, ScoreboardCases, 'Cases', 1, ['CEID:Walk'])"
   ]
  },
  {
   "cell_type": "code",
   "execution_count": 18,
   "metadata": {},
   "outputs": [],
   "source": [
    "#S19.plotUSCumDeaths(US_deaths)"
   ]
  },
  {
   "cell_type": "code",
   "execution_count": 19,
   "metadata": {},
   "outputs": [],
   "source": [
    "#%%capture cap --no-stderr\n",
    "#themodels = ScoreboardDeaths['model'].unique()\n",
    "#for i in range(0,len(themodels)):\n",
    "#    print(themodels[i])"
   ]
  },
  {
   "cell_type": "code",
   "execution_count": 20,
   "metadata": {},
   "outputs": [],
   "source": [
    "#Writing out all the models in the scoreboard into a text file\n",
    "#with open('../CUMDEATH_Models.txt', 'w') as f:\n",
    "#    f.write(cap.stdout)"
   ]
  },
  {
   "cell_type": "code",
   "execution_count": 21,
   "metadata": {},
   "outputs": [],
   "source": [
    "#S19.plotallscoresdist(ScoreboardDeaths, 'Death')"
   ]
  },
  {
   "cell_type": "code",
   "execution_count": 22,
   "metadata": {},
   "outputs": [],
   "source": [
    "#S19.plotlongitudinalALL(US_deaths, ScoreboardDeaths, 'Deaths', 1)"
   ]
  },
  {
   "cell_type": "code",
   "execution_count": 23,
   "metadata": {},
   "outputs": [],
   "source": [
    "#S19.plotlongitudinalALL(US_deaths, ScoreboardDeaths, 'Deaths', 4)"
   ]
  },
  {
   "cell_type": "code",
   "execution_count": 24,
   "metadata": {},
   "outputs": [],
   "source": [
    "#S19.plotlongitudinal(US_deaths, ScoreboardDeaths, 'Deaths', 1, ['BPagano:RtDriven'])"
   ]
  },
  {
   "cell_type": "code",
   "execution_count": 25,
   "metadata": {},
   "outputs": [],
   "source": [
    "#S19.plotlongitudinal(US_deaths, ScoreboardDeaths, 'Deaths', 1, ['COVIDhub:baseline'])"
   ]
  },
  {
   "cell_type": "code",
   "execution_count": 26,
   "metadata": {},
   "outputs": [],
   "source": [
    "#S19.plotlongitudinal(US_deaths, ScoreboardDeaths, 'Deaths', 4, ['COVIDhub:baseline'])"
   ]
  },
  {
   "cell_type": "code",
   "execution_count": 27,
   "metadata": {},
   "outputs": [],
   "source": [
    "#Number of Unique Case Forecasting Models in the data set \n",
    "#len(ScoreboardCases['model'].unique())"
   ]
  },
  {
   "cell_type": "code",
   "execution_count": 28,
   "metadata": {},
   "outputs": [],
   "source": [
    "#Number of Unique Cumulative Death Forecasting Models in the data set \n",
    "#len(ScoreboardDeaths['model'].unique())"
   ]
  },
  {
   "cell_type": "code",
   "execution_count": 11,
   "metadata": {},
   "outputs": [],
   "source": [
    "weight_date = '2020-08-01'\n",
    "n_weeks = 4\n",
    "#scoreboard_cases = S19.getweightedmodelalldates(scoreboard_cases, weight_date, 'Cases', n_weeks, 'weighted')\n",
    "#scoreboard_cases = S19.getweightedmodelalldates(scoreboard_cases, weight_date, 'Cases', n_weeks, 'unweighted')\n",
    "#scoreboard_deaths = S19.getweightedmodelalldates(scoreboard_deaths, weight_date, 'Deaths', n_weeks, 'weighted')\n",
    "#scoreboard_deaths = S19.getweightedmodelalldates(scoreboard_deaths, weight_date, 'Deaths', n_weeks, 'unweighted')"
   ]
  },
  {
   "cell_type": "code",
   "execution_count": 30,
   "metadata": {},
   "outputs": [],
   "source": [
    "#S19.plotlongitudinal(US_deaths, ScoreboardDeaths, 'Deaths', 4, ['COVIDhub:ensemble','FDANIH:Sunweight'])"
   ]
  },
  {
   "cell_type": "code",
   "execution_count": 31,
   "metadata": {},
   "outputs": [],
   "source": [
    "#S19.plotlongitudinalUNWEIGHTED(US_deaths, ScoreboardDeaths, 'Deaths', 7)"
   ]
  },
  {
   "cell_type": "code",
   "execution_count": 32,
   "metadata": {},
   "outputs": [],
   "source": [
    "#S19.plotlongitudinal(US_cases, ScoreboardCases, 'Cases', 4, ['COVIDhub:ensemble','FDANIH:Sunweight'])"
   ]
  },
  {
   "cell_type": "code",
   "execution_count": 33,
   "metadata": {},
   "outputs": [],
   "source": [
    "#S19.plotlongitudinalUNWEIGHTED(US_cases, ScoreboardCases, 'Cases', 7)"
   ]
  },
  {
   "cell_type": "code",
   "execution_count": 34,
   "metadata": {},
   "outputs": [],
   "source": [
    "#S19.plotlongitudinal(US_deaths, ScoreboardDeaths, 'Deaths', 4, ['COVIDhub:ensemble','FDANIH:Sweight'])"
   ]
  },
  {
   "cell_type": "code",
   "execution_count": 35,
   "metadata": {},
   "outputs": [],
   "source": [
    "#S19.plotlongitudinal(US_cases, ScoreboardCases, 'Cases', 4, ['COVIDhub:ensemble','FDANIH:Sweight'])"
   ]
  },
  {
   "cell_type": "code",
   "execution_count": 36,
   "metadata": {},
   "outputs": [],
   "source": [
    "#S19.plotgroupsFD(ScoreboardDeaths, modeltypesDeaths, 1, 'Death')"
   ]
  },
  {
   "cell_type": "code",
   "execution_count": 37,
   "metadata": {},
   "outputs": [],
   "source": [
    "#S19.plotgroupsFD(ScoreboardCases, modeltypesCases, 1, 'Case')"
   ]
  },
  {
   "cell_type": "code",
   "execution_count": 38,
   "metadata": {},
   "outputs": [],
   "source": [
    "#S19.plotgroupsmodelweek(ScoreboardCases, modeltypesCases, 4, 'Case')"
   ]
  },
  {
   "cell_type": "code",
   "execution_count": 39,
   "metadata": {},
   "outputs": [],
   "source": [
    "#S19.plotgroupsmodelweek(ScoreboardDeaths, modeltypesDeaths, 4, 'Death')"
   ]
  },
  {
   "cell_type": "code",
   "execution_count": 40,
   "metadata": {},
   "outputs": [],
   "source": [
    "#S19.plotgroupsTD(ScoreboardDeaths, modeltypesDeaths, 'Death')"
   ]
  },
  {
   "cell_type": "code",
   "execution_count": 41,
   "metadata": {},
   "outputs": [],
   "source": [
    "#S19.plotgroupsTD(ScoreboardCases, modeltypesCases, 'Case')"
   ]
  },
  {
   "cell_type": "code",
   "execution_count": 42,
   "metadata": {},
   "outputs": [],
   "source": [
    "#S19.getleaderboard(scoreboard_cases, 1)"
   ]
  },
  {
   "cell_type": "code",
   "execution_count": 43,
   "metadata": {},
   "outputs": [],
   "source": [
    "#S19.getleaderboard(scoreboard_cases, 4)"
   ]
  },
  {
   "cell_type": "code",
   "execution_count": 44,
   "metadata": {},
   "outputs": [],
   "source": [
    "#S19.getleaderboard(scoreboard_deaths, 1)"
   ]
  },
  {
   "cell_type": "code",
   "execution_count": 45,
   "metadata": {},
   "outputs": [],
   "source": [
    "#S19.getleaderboard(scoreboard_deaths, 4)"
   ]
  },
  {
   "cell_type": "code",
   "execution_count": 12,
   "metadata": {},
   "outputs": [],
   "source": [
    "import ipywidgets as ipyw\n",
    "from ipywidgets import HBox, VBox, Text, HTML, Label, AppLayout"
   ]
  },
  {
   "cell_type": "code",
   "execution_count": 13,
   "metadata": {},
   "outputs": [],
   "source": [
    "def get_qgrid(scoreboard, weeks_ahead):\n",
    "    df = S19.getleaderboard(scoreboard, weeks_ahead, quiet=True)\n",
    "    df.columns = [x.title().replace('Of ', '').replace('Rankings', 'Rank').replace('Average', 'Mean').replace('Past ', '').replace('Scores', 'Score')\n",
    "                  for x in df.columns]\n",
    "    df.iloc[:, 1] = df.iloc[:, 1].round(2)\n",
    "    df.iloc[:, 2] = df.iloc[:, 2].round(1)\n",
    "    df['Team'] = df['Model'].apply(lambda x: x.split(':')[0])\n",
    "    df['Model'] = df['Model'].apply(lambda x: x.split(':')[1])\n",
    "    df = df.set_index('Team')\n",
    "    #df.index.name = \"Team:Model\"\n",
    "    return qgrid.show_grid(df, grid_options={'width': 400, 'forceFitColumns': False, 'defaultColumnWidth': 110})"
   ]
  },
  {
   "cell_type": "code",
   "execution_count": 19,
   "metadata": {},
   "outputs": [
    {
     "name": "stdout",
     "output_type": "stream",
     "text": [
      "Leaderboard for 4-week-ahead weekly incidental case forecasts as of 2020-12-12\n"
     ]
    },
    {
     "data": {
      "text/html": [
       "<div>\n",
       "<style scoped>\n",
       "    .dataframe tbody tr th:only-of-type {\n",
       "        vertical-align: middle;\n",
       "    }\n",
       "\n",
       "    .dataframe tbody tr th {\n",
       "        vertical-align: top;\n",
       "    }\n",
       "\n",
       "    .dataframe thead th {\n",
       "        text-align: right;\n",
       "    }\n",
       "</style>\n",
       "<table border=\"1\" class=\"dataframe\">\n",
       "  <thead>\n",
       "    <tr style=\"text-align: right;\">\n",
       "      <th></th>\n",
       "      <th>model</th>\n",
       "      <th>median of past scores</th>\n",
       "      <th>average of past rankings</th>\n",
       "    </tr>\n",
       "  </thead>\n",
       "  <tbody>\n",
       "    <tr>\n",
       "      <th>0</th>\n",
       "      <td>CU:scenario_low</td>\n",
       "      <td>-10.322189</td>\n",
       "      <td>5.625000</td>\n",
       "    </tr>\n",
       "    <tr>\n",
       "      <th>1</th>\n",
       "      <td>CU:scenario_mid</td>\n",
       "      <td>-10.778736</td>\n",
       "      <td>5.750000</td>\n",
       "    </tr>\n",
       "    <tr>\n",
       "      <th>2</th>\n",
       "      <td>CU:select</td>\n",
       "      <td>-10.790454</td>\n",
       "      <td>6.250000</td>\n",
       "    </tr>\n",
       "    <tr>\n",
       "      <th>3</th>\n",
       "      <td>COVIDhub:baseline</td>\n",
       "      <td>-10.990190</td>\n",
       "      <td>5.000000</td>\n",
       "    </tr>\n",
       "    <tr>\n",
       "      <th>4</th>\n",
       "      <td>CU:nochange</td>\n",
       "      <td>-11.128248</td>\n",
       "      <td>6.687500</td>\n",
       "    </tr>\n",
       "    <tr>\n",
       "      <th>5</th>\n",
       "      <td>CU:scenario_high</td>\n",
       "      <td>-11.250869</td>\n",
       "      <td>7.250000</td>\n",
       "    </tr>\n",
       "    <tr>\n",
       "      <th>6</th>\n",
       "      <td>DDS:NBDS</td>\n",
       "      <td>-11.712890</td>\n",
       "      <td>7.117647</td>\n",
       "    </tr>\n",
       "    <tr>\n",
       "      <th>7</th>\n",
       "      <td>UVA:Ensemble</td>\n",
       "      <td>-11.814411</td>\n",
       "      <td>12.000000</td>\n",
       "    </tr>\n",
       "    <tr>\n",
       "      <th>8</th>\n",
       "      <td>UCLA:SuEIR</td>\n",
       "      <td>-11.926025</td>\n",
       "      <td>7.250000</td>\n",
       "    </tr>\n",
       "    <tr>\n",
       "      <th>9</th>\n",
       "      <td>LNQ:ens1</td>\n",
       "      <td>-11.965882</td>\n",
       "      <td>6.473684</td>\n",
       "    </tr>\n",
       "    <tr>\n",
       "      <th>10</th>\n",
       "      <td>Columbia_UNC:SurvCon</td>\n",
       "      <td>-11.971463</td>\n",
       "      <td>6.900000</td>\n",
       "    </tr>\n",
       "    <tr>\n",
       "      <th>11</th>\n",
       "      <td>LANL:GrowthRate</td>\n",
       "      <td>-11.990842</td>\n",
       "      <td>8.000000</td>\n",
       "    </tr>\n",
       "    <tr>\n",
       "      <th>12</th>\n",
       "      <td>COVIDhub:ensemble</td>\n",
       "      <td>-12.061025</td>\n",
       "      <td>7.166667</td>\n",
       "    </tr>\n",
       "    <tr>\n",
       "      <th>13</th>\n",
       "      <td>USC:SI_kJalpha</td>\n",
       "      <td>-12.857159</td>\n",
       "      <td>15.000000</td>\n",
       "    </tr>\n",
       "    <tr>\n",
       "      <th>14</th>\n",
       "      <td>JHU_CSSE:DECOM</td>\n",
       "      <td>-14.958417</td>\n",
       "      <td>9.666667</td>\n",
       "    </tr>\n",
       "    <tr>\n",
       "      <th>15</th>\n",
       "      <td>USACE:ERDC_SEIR</td>\n",
       "      <td>-inf</td>\n",
       "      <td>9.764706</td>\n",
       "    </tr>\n",
       "    <tr>\n",
       "      <th>16</th>\n",
       "      <td>UMich:RidgeTfReg</td>\n",
       "      <td>-inf</td>\n",
       "      <td>17.000000</td>\n",
       "    </tr>\n",
       "    <tr>\n",
       "      <th>17</th>\n",
       "      <td>UCF:AEM</td>\n",
       "      <td>-inf</td>\n",
       "      <td>17.000000</td>\n",
       "    </tr>\n",
       "    <tr>\n",
       "      <th>18</th>\n",
       "      <td>RobertWalraven:ESG</td>\n",
       "      <td>-inf</td>\n",
       "      <td>11.052632</td>\n",
       "    </tr>\n",
       "    <tr>\n",
       "      <th>19</th>\n",
       "      <td>USC:SI_kJalpha_RF</td>\n",
       "      <td>-inf</td>\n",
       "      <td>10.000000</td>\n",
       "    </tr>\n",
       "    <tr>\n",
       "      <th>20</th>\n",
       "      <td>BPagano:RtDriven</td>\n",
       "      <td>-inf</td>\n",
       "      <td>5.600000</td>\n",
       "    </tr>\n",
       "    <tr>\n",
       "      <th>21</th>\n",
       "      <td>Karlen:pypm</td>\n",
       "      <td>-inf</td>\n",
       "      <td>8.882353</td>\n",
       "    </tr>\n",
       "    <tr>\n",
       "      <th>22</th>\n",
       "      <td>JHU_IDD:CovidSP</td>\n",
       "      <td>-inf</td>\n",
       "      <td>8.894737</td>\n",
       "    </tr>\n",
       "    <tr>\n",
       "      <th>23</th>\n",
       "      <td>JHUAPL:Bucky</td>\n",
       "      <td>-inf</td>\n",
       "      <td>7.833333</td>\n",
       "    </tr>\n",
       "    <tr>\n",
       "      <th>24</th>\n",
       "      <td>CEID:Walk</td>\n",
       "      <td>-inf</td>\n",
       "      <td>7.933333</td>\n",
       "    </tr>\n",
       "    <tr>\n",
       "      <th>25</th>\n",
       "      <td>IowaStateLW:STEM</td>\n",
       "      <td>-inf</td>\n",
       "      <td>7.894737</td>\n",
       "    </tr>\n",
       "    <tr>\n",
       "      <th>26</th>\n",
       "      <td>IHME:CurveFit</td>\n",
       "      <td>-inf</td>\n",
       "      <td>9.750000</td>\n",
       "    </tr>\n",
       "    <tr>\n",
       "      <th>27</th>\n",
       "      <td>CovidAnalytics:DELPHI</td>\n",
       "      <td>-inf</td>\n",
       "      <td>8.650000</td>\n",
       "    </tr>\n",
       "    <tr>\n",
       "      <th>28</th>\n",
       "      <td>Covid19Sim:Simulator</td>\n",
       "      <td>-inf</td>\n",
       "      <td>9.555556</td>\n",
       "    </tr>\n",
       "    <tr>\n",
       "      <th>29</th>\n",
       "      <td>JCB:PRM</td>\n",
       "      <td>-inf</td>\n",
       "      <td>8.333333</td>\n",
       "    </tr>\n",
       "  </tbody>\n",
       "</table>\n",
       "</div>"
      ],
      "text/plain": [
       "                    model  median of past scores  average of past rankings\n",
       "0         CU:scenario_low             -10.322189                  5.625000\n",
       "1         CU:scenario_mid             -10.778736                  5.750000\n",
       "2               CU:select             -10.790454                  6.250000\n",
       "3       COVIDhub:baseline             -10.990190                  5.000000\n",
       "4             CU:nochange             -11.128248                  6.687500\n",
       "5        CU:scenario_high             -11.250869                  7.250000\n",
       "6                DDS:NBDS             -11.712890                  7.117647\n",
       "7            UVA:Ensemble             -11.814411                 12.000000\n",
       "8              UCLA:SuEIR             -11.926025                  7.250000\n",
       "9                LNQ:ens1             -11.965882                  6.473684\n",
       "10   Columbia_UNC:SurvCon             -11.971463                  6.900000\n",
       "11        LANL:GrowthRate             -11.990842                  8.000000\n",
       "12      COVIDhub:ensemble             -12.061025                  7.166667\n",
       "13         USC:SI_kJalpha             -12.857159                 15.000000\n",
       "14         JHU_CSSE:DECOM             -14.958417                  9.666667\n",
       "15        USACE:ERDC_SEIR                   -inf                  9.764706\n",
       "16       UMich:RidgeTfReg                   -inf                 17.000000\n",
       "17                UCF:AEM                   -inf                 17.000000\n",
       "18     RobertWalraven:ESG                   -inf                 11.052632\n",
       "19      USC:SI_kJalpha_RF                   -inf                 10.000000\n",
       "20       BPagano:RtDriven                   -inf                  5.600000\n",
       "21            Karlen:pypm                   -inf                  8.882353\n",
       "22        JHU_IDD:CovidSP                   -inf                  8.894737\n",
       "23           JHUAPL:Bucky                   -inf                  7.833333\n",
       "24              CEID:Walk                   -inf                  7.933333\n",
       "25       IowaStateLW:STEM                   -inf                  7.894737\n",
       "26          IHME:CurveFit                   -inf                  9.750000\n",
       "27  CovidAnalytics:DELPHI                   -inf                  8.650000\n",
       "28   Covid19Sim:Simulator                   -inf                  9.555556\n",
       "29                JCB:PRM                   -inf                  8.333333"
      ]
     },
     "execution_count": 19,
     "metadata": {},
     "output_type": "execute_result"
    }
   ],
   "source": [
    "S19.getleaderboard(scoreboard_cases,4)"
   ]
  },
  {
   "cell_type": "code",
   "execution_count": 14,
   "metadata": {},
   "outputs": [],
   "source": [
    "weeks_ahead = 4\n",
    "q_cases = get_qgrid(scoreboard_cases, weeks_ahead)\n",
    "q_deaths = get_qgrid(scoreboard_cases, weeks_ahead)\n",
    "q_cases.layout = ipyw.Layout(padding='10px', width='458px', align_items='center')\n",
    "q_deaths.layout = ipyw.Layout(padding='10px', width='458px', align_items='center')"
   ]
  },
  {
   "cell_type": "code",
   "execution_count": 15,
   "metadata": {},
   "outputs": [
    {
     "data": {
      "text/html": [
       "<style>\n",
       ".widget-label {\n",
       "    text-align: center;\n",
       "    font-size: 150%\n",
       "}\n",
       ".q-grid-container {\n",
       "    text-align: center;\n",
       "}\n",
       "</style>\n"
      ],
      "text/plain": [
       "<IPython.core.display.HTML object>"
      ]
     },
     "metadata": {},
     "output_type": "display_data"
    }
   ],
   "source": [
    "%%html\n",
    "<style>\n",
    ".widget-label {\n",
    "    text-align: center;\n",
    "    font-size: 150%\n",
    "}\n",
    ".q-grid-container {\n",
    "    text-align: center;\n",
    "}\n",
    "</style>"
   ]
  },
  {
   "cell_type": "code",
   "execution_count": 16,
   "metadata": {},
   "outputs": [],
   "source": [
    "centered = ipyw.Layout(align_items='center', align_self='center')"
   ]
  },
  {
   "cell_type": "code",
   "execution_count": 17,
   "metadata": {},
   "outputs": [
    {
     "data": {
      "application/vnd.jupyter.widget-view+json": {
       "model_id": "6ae42e27f95946c0960b4ea655bcd136",
       "version_major": 2,
       "version_minor": 0
      },
      "text/plain": [
       "VBox(children=(Label(value='COVIDHub Model Dashboard'), HBox(children=(VBox(children=(Label(value='Cases'), Qg…"
      ]
     },
     "metadata": {},
     "output_type": "display_data"
    }
   ],
   "source": [
    "title = Label('COVIDHub Model Dashboard')\n",
    "VBox([title,\n",
    "      HBox([VBox([Label('Cases'), q_cases]),\n",
    "            VBox([Label('Deaths'), q_deaths])], layout=centered)])"
   ]
  },
  {
   "cell_type": "code",
   "execution_count": 21,
   "metadata": {},
   "outputs": [
    {
     "ename": "AttributeError",
     "evalue": "module 'Scoreboard19' has no attribute 'plotTD'",
     "output_type": "error",
     "traceback": [
      "\u001b[0;31m---------------------------------------------------------------------------\u001b[0m",
      "\u001b[0;31mAttributeError\u001b[0m                            Traceback (most recent call last)",
      "\u001b[0;32m<ipython-input-21-3d3b461b9cc8>\u001b[0m in \u001b[0;36m<module>\u001b[0;34m\u001b[0m\n\u001b[0;32m----> 1\u001b[0;31m \u001b[0mS19\u001b[0m\u001b[0;34m.\u001b[0m\u001b[0mplotTD\u001b[0m\u001b[0;34m(\u001b[0m\u001b[0;34m)\u001b[0m\u001b[0;34m\u001b[0m\u001b[0;34m\u001b[0m\u001b[0m\n\u001b[0m",
      "\u001b[0;31mAttributeError\u001b[0m: module 'Scoreboard19' has no attribute 'plotTD'"
     ]
    }
   ],
   "source": [
    "S19.getleaderboard(ScoreboardCases, 1)"
   ]
  },
  {
   "cell_type": "code",
   "execution_count": null,
   "metadata": {},
   "outputs": [],
   "source": [
    "S19.getleaderboard(ScoreboardCases, 4)"
   ]
  },
  {
   "cell_type": "markdown",
   "metadata": {},
   "source": [
    "## Cumulative Death Counts"
   ]
  },
  {
   "cell_type": "code",
   "execution_count": null,
   "metadata": {},
   "outputs": [],
   "source": [
    "S19.getleaderboard(ScoreboardDeaths, 1)"
   ]
  },
  {
   "cell_type": "code",
   "execution_count": null,
   "metadata": {},
   "outputs": [],
   "source": [
    "S19.getleaderboard(ScoreboardDeaths 4)"
   ]
  },
  {
   "cell_type": "markdown",
   "metadata": {},
   "source": [
    "### ADD TO GITHUB"
   ]
  },
  {
   "cell_type": "code",
   "execution_count": null,
   "metadata": {},
   "outputs": [],
   "source": [
    "os.chdir(gitdir)\n",
    "# #!git remote set-url origin https://github.com/ONYLAB/Scoreboard.git\n",
    "# #!git config credential.helper store\n",
    "#!git stash\n",
    "#!git pull --rebase origin master\n",
    "!git add --all\n",
    "!git commit -am “Update”\n",
    "!git push -u origin master\n",
    "os.chdir(mypwd[0])"
   ]
  },
  {
   "cell_type": "code",
   "execution_count": null,
   "metadata": {},
   "outputs": [],
   "source": []
  }
 ],
 "metadata": {
  "kernelspec": {
   "display_name": "Python 3",
   "language": "python",
   "name": "python3"
  },
  "language_info": {
   "codemirror_mode": {
    "name": "ipython",
    "version": 3
   },
   "file_extension": ".py",
   "mimetype": "text/x-python",
   "name": "python",
   "nbconvert_exporter": "python",
   "pygments_lexer": "ipython3",
   "version": "3.7.6"
  }
 },
 "nbformat": 4,
 "nbformat_minor": 4
}
