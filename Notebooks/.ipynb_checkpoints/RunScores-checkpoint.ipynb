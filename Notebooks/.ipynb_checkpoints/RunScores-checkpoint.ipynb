{
 "cells": [
  {
   "cell_type": "markdown",
   "metadata": {},
   "source": [
    "# IDENTIFY DIRECTORIES AND INSTALL"
   ]
  },
  {
   "cell_type": "code",
   "execution_count": 1,
   "metadata": {},
   "outputs": [
    {
     "name": "stdout",
     "output_type": "stream",
     "text": [
      "/home/osman.yogurtcu/Documents/Projects/Python/Scoreboard/Notebooks\n"
     ]
    }
   ],
   "source": [
    "cd /home/osman.yogurtcu/Documents/Projects/Python/Scoreboard/Notebooks"
   ]
  },
  {
   "cell_type": "code",
   "execution_count": 2,
   "metadata": {},
   "outputs": [],
   "source": [
    "#PLEASE CHANGE 'covidhubdir' TO YOUR OWN ???/???/???/covid19-forecast-hub/data-processed\n",
    "from pathlib import Path\n",
    "import os\n",
    "covidhubdir = '/home/osman.yogurtcu/Documents/Projects/Python/covid19-forecast-hub/data-processed'\n",
    "mypwd = !pwd\n",
    "gitdir = str(Path(mypwd[0]).parent)\n",
    "figuresdirectory = gitdir + '/' + 'Figures'"
   ]
  },
  {
   "cell_type": "code",
   "execution_count": 3,
   "metadata": {},
   "outputs": [
    {
     "name": "stdout",
     "output_type": "stream",
     "text": [
      "/home/osman.yogurtcu/Documents/Projects/Python/Scoreboard\n"
     ]
    }
   ],
   "source": [
    "cd .."
   ]
  },
  {
   "cell_type": "code",
   "execution_count": 4,
   "metadata": {},
   "outputs": [
    {
     "name": "stdout",
     "output_type": "stream",
     "text": [
      "Obtaining file:///home/osman.yogurtcu/Documents/Projects/Python/Scoreboard\n",
      "Requirement already satisfied, skipping upgrade: bs4 in /home/osman.yogurtcu/anaconda3/lib/python3.7/site-packages (from Scoreboard==0.4) (0.0.1)\n",
      "Requirement already satisfied, skipping upgrade: lxml in /home/osman.yogurtcu/anaconda3/lib/python3.7/site-packages (from Scoreboard==0.4) (4.5.0)\n",
      "Requirement already satisfied, skipping upgrade: matplotlib>=3.0 in /home/osman.yogurtcu/anaconda3/lib/python3.7/site-packages (from Scoreboard==0.4) (3.2.1)\n",
      "Requirement already satisfied, skipping upgrade: numexpr in /home/osman.yogurtcu/anaconda3/lib/python3.7/site-packages (from Scoreboard==0.4) (2.7.1)\n",
      "Requirement already satisfied, skipping upgrade: numpy>=1.15 in /home/osman.yogurtcu/anaconda3/lib/python3.7/site-packages (from Scoreboard==0.4) (1.18.4)\n",
      "Requirement already satisfied, skipping upgrade: pandas>=1.0 in /home/osman.yogurtcu/anaconda3/lib/python3.7/site-packages (from Scoreboard==0.4) (1.0.3)\n",
      "Requirement already satisfied, skipping upgrade: papermill in /home/osman.yogurtcu/anaconda3/lib/python3.7/site-packages (from Scoreboard==0.4) (2.1.1)\n",
      "Requirement already satisfied, skipping upgrade: p_tqdm in /home/osman.yogurtcu/anaconda3/lib/python3.7/site-packages (from Scoreboard==0.4) (1.3.3)\n",
      "Requirement already satisfied, skipping upgrade: scipy in /home/osman.yogurtcu/anaconda3/lib/python3.7/site-packages (from Scoreboard==0.4) (1.4.1)\n",
      "Requirement already satisfied, skipping upgrade: tqdm in /home/osman.yogurtcu/anaconda3/lib/python3.7/site-packages (from Scoreboard==0.4) (4.42.1)\n",
      "Requirement already satisfied, skipping upgrade: path>=13.1.0 in /home/osman.yogurtcu/anaconda3/lib/python3.7/site-packages (from Scoreboard==0.4) (13.1.0)\n",
      "Requirement already satisfied, skipping upgrade: pathlib2>=2.3.5 in /home/osman.yogurtcu/anaconda3/lib/python3.7/site-packages (from Scoreboard==0.4) (2.3.5)\n",
      "Requirement already satisfied, skipping upgrade: pathspec>=0.8.0 in /home/osman.yogurtcu/anaconda3/lib/python3.7/site-packages (from Scoreboard==0.4) (0.8.0)\n",
      "Requirement already satisfied, skipping upgrade: pathtools>=0.1.2 in /home/osman.yogurtcu/anaconda3/lib/python3.7/site-packages (from Scoreboard==0.4) (0.1.2)\n",
      "Requirement already satisfied, skipping upgrade: python-dateutil>=2.8.1 in /home/osman.yogurtcu/anaconda3/lib/python3.7/site-packages (from Scoreboard==0.4) (2.8.1)\n",
      "Requirement already satisfied, skipping upgrade: beautifulsoup4 in /home/osman.yogurtcu/anaconda3/lib/python3.7/site-packages (from bs4->Scoreboard==0.4) (4.9.0)\n",
      "Requirement already satisfied, skipping upgrade: kiwisolver>=1.0.1 in /home/osman.yogurtcu/anaconda3/lib/python3.7/site-packages (from matplotlib>=3.0->Scoreboard==0.4) (1.2.0)\n",
      "Requirement already satisfied, skipping upgrade: cycler>=0.10 in /home/osman.yogurtcu/anaconda3/lib/python3.7/site-packages (from matplotlib>=3.0->Scoreboard==0.4) (0.10.0)\n",
      "Requirement already satisfied, skipping upgrade: pyparsing!=2.0.4,!=2.1.2,!=2.1.6,>=2.0.1 in /home/osman.yogurtcu/anaconda3/lib/python3.7/site-packages (from matplotlib>=3.0->Scoreboard==0.4) (2.4.7)\n",
      "Requirement already satisfied, skipping upgrade: pytz>=2017.2 in /home/osman.yogurtcu/anaconda3/lib/python3.7/site-packages (from pandas>=1.0->Scoreboard==0.4) (2020.1)\n",
      "Requirement already satisfied, skipping upgrade: entrypoints in /home/osman.yogurtcu/anaconda3/lib/python3.7/site-packages (from papermill->Scoreboard==0.4) (0.3)\n",
      "Requirement already satisfied, skipping upgrade: nbclient>=0.2.0 in /home/osman.yogurtcu/anaconda3/lib/python3.7/site-packages (from papermill->Scoreboard==0.4) (0.2.0)\n",
      "Requirement already satisfied, skipping upgrade: requests in /home/osman.yogurtcu/anaconda3/lib/python3.7/site-packages (from papermill->Scoreboard==0.4) (2.22.0)\n",
      "Requirement already satisfied, skipping upgrade: click in /home/osman.yogurtcu/anaconda3/lib/python3.7/site-packages (from papermill->Scoreboard==0.4) (7.0)\n",
      "Requirement already satisfied, skipping upgrade: pyyaml in /home/osman.yogurtcu/anaconda3/lib/python3.7/site-packages (from papermill->Scoreboard==0.4) (5.3)\n",
      "Requirement already satisfied, skipping upgrade: tenacity in /home/osman.yogurtcu/anaconda3/lib/python3.7/site-packages (from papermill->Scoreboard==0.4) (6.2.0)\n",
      "Requirement already satisfied, skipping upgrade: nbformat in /home/osman.yogurtcu/anaconda3/lib/python3.7/site-packages (from papermill->Scoreboard==0.4) (5.0.4)\n",
      "Requirement already satisfied, skipping upgrade: jupyter-client in /home/osman.yogurtcu/anaconda3/lib/python3.7/site-packages (from papermill->Scoreboard==0.4) (5.3.4)\n",
      "Requirement already satisfied, skipping upgrade: black in /home/osman.yogurtcu/anaconda3/lib/python3.7/site-packages (from papermill->Scoreboard==0.4) (19.10b0)\n",
      "Requirement already satisfied, skipping upgrade: ansiwrap in /home/osman.yogurtcu/anaconda3/lib/python3.7/site-packages (from papermill->Scoreboard==0.4) (0.8.4)\n",
      "Requirement already satisfied, skipping upgrade: pathos in /home/osman.yogurtcu/anaconda3/lib/python3.7/site-packages (from p_tqdm->Scoreboard==0.4) (0.2.5)\n",
      "Requirement already satisfied, skipping upgrade: six in /home/osman.yogurtcu/anaconda3/lib/python3.7/site-packages (from p_tqdm->Scoreboard==0.4) (1.14.0)\n",
      "Requirement already satisfied, skipping upgrade: importlib-metadata>=0.5; python_version < \"3.8\" in /home/osman.yogurtcu/anaconda3/lib/python3.7/site-packages (from path>=13.1.0->Scoreboard==0.4) (1.5.0)\n",
      "Requirement already satisfied, skipping upgrade: soupsieve>1.2 in /home/osman.yogurtcu/anaconda3/lib/python3.7/site-packages (from beautifulsoup4->bs4->Scoreboard==0.4) (2.0)\n",
      "Requirement already satisfied, skipping upgrade: traitlets>=4.2 in /home/osman.yogurtcu/anaconda3/lib/python3.7/site-packages (from nbclient>=0.2.0->papermill->Scoreboard==0.4) (4.3.3)\n",
      "Requirement already satisfied, skipping upgrade: nest-asyncio in /home/osman.yogurtcu/anaconda3/lib/python3.7/site-packages (from nbclient>=0.2.0->papermill->Scoreboard==0.4) (1.3.3)\n",
      "Requirement already satisfied, skipping upgrade: async-generator in /home/osman.yogurtcu/anaconda3/lib/python3.7/site-packages (from nbclient>=0.2.0->papermill->Scoreboard==0.4) (1.10)\n",
      "Requirement already satisfied, skipping upgrade: idna<2.9,>=2.5 in /home/osman.yogurtcu/anaconda3/lib/python3.7/site-packages (from requests->papermill->Scoreboard==0.4) (2.8)\n",
      "Requirement already satisfied, skipping upgrade: certifi>=2017.4.17 in /home/osman.yogurtcu/anaconda3/lib/python3.7/site-packages (from requests->papermill->Scoreboard==0.4) (2019.11.28)\n",
      "Requirement already satisfied, skipping upgrade: urllib3!=1.25.0,!=1.25.1,<1.26,>=1.21.1 in /home/osman.yogurtcu/anaconda3/lib/python3.7/site-packages (from requests->papermill->Scoreboard==0.4) (1.25.8)\n",
      "Requirement already satisfied, skipping upgrade: chardet<3.1.0,>=3.0.2 in /home/osman.yogurtcu/anaconda3/lib/python3.7/site-packages (from requests->papermill->Scoreboard==0.4) (3.0.4)\n",
      "Requirement already satisfied, skipping upgrade: ipython-genutils in /home/osman.yogurtcu/anaconda3/lib/python3.7/site-packages (from nbformat->papermill->Scoreboard==0.4) (0.2.0)\n",
      "Requirement already satisfied, skipping upgrade: jupyter-core in /home/osman.yogurtcu/anaconda3/lib/python3.7/site-packages (from nbformat->papermill->Scoreboard==0.4) (4.6.1)\n",
      "Requirement already satisfied, skipping upgrade: jsonschema!=2.5.0,>=2.4 in /home/osman.yogurtcu/anaconda3/lib/python3.7/site-packages (from nbformat->papermill->Scoreboard==0.4) (3.2.0)\n",
      "Requirement already satisfied, skipping upgrade: pyzmq>=13 in /home/osman.yogurtcu/anaconda3/lib/python3.7/site-packages (from jupyter-client->papermill->Scoreboard==0.4) (18.1.1)\n",
      "Requirement already satisfied, skipping upgrade: tornado>=4.1 in /home/osman.yogurtcu/anaconda3/lib/python3.7/site-packages (from jupyter-client->papermill->Scoreboard==0.4) (6.0.3)\n",
      "Requirement already satisfied, skipping upgrade: attrs>=18.1.0 in /home/osman.yogurtcu/anaconda3/lib/python3.7/site-packages (from black->papermill->Scoreboard==0.4) (19.3.0)\n",
      "Requirement already satisfied, skipping upgrade: toml>=0.9.4 in /home/osman.yogurtcu/anaconda3/lib/python3.7/site-packages (from black->papermill->Scoreboard==0.4) (0.10.0)\n",
      "Requirement already satisfied, skipping upgrade: regex in /home/osman.yogurtcu/anaconda3/lib/python3.7/site-packages (from black->papermill->Scoreboard==0.4) (2020.4.4)\n",
      "Requirement already satisfied, skipping upgrade: typed-ast>=1.4.0 in /home/osman.yogurtcu/anaconda3/lib/python3.7/site-packages (from black->papermill->Scoreboard==0.4) (1.4.1)\n",
      "Requirement already satisfied, skipping upgrade: appdirs in /home/osman.yogurtcu/anaconda3/lib/python3.7/site-packages (from black->papermill->Scoreboard==0.4) (1.4.3)\n",
      "Requirement already satisfied, skipping upgrade: textwrap3>=0.9.2 in /home/osman.yogurtcu/anaconda3/lib/python3.7/site-packages (from ansiwrap->papermill->Scoreboard==0.4) (0.9.2)\n",
      "Requirement already satisfied, skipping upgrade: ppft>=1.6.6.1 in /home/osman.yogurtcu/anaconda3/lib/python3.7/site-packages (from pathos->p_tqdm->Scoreboard==0.4) (1.6.6.1)\n",
      "Requirement already satisfied, skipping upgrade: dill>=0.3.1 in /home/osman.yogurtcu/anaconda3/lib/python3.7/site-packages (from pathos->p_tqdm->Scoreboard==0.4) (0.3.1.1)\n",
      "Requirement already satisfied, skipping upgrade: pox>=0.2.7 in /home/osman.yogurtcu/anaconda3/lib/python3.7/site-packages (from pathos->p_tqdm->Scoreboard==0.4) (0.2.7)\n",
      "Requirement already satisfied, skipping upgrade: multiprocess>=0.70.9 in /home/osman.yogurtcu/anaconda3/lib/python3.7/site-packages (from pathos->p_tqdm->Scoreboard==0.4) (0.70.9)\n"
     ]
    },
    {
     "name": "stdout",
     "output_type": "stream",
     "text": [
      "Requirement already satisfied, skipping upgrade: zipp>=0.5 in /home/osman.yogurtcu/anaconda3/lib/python3.7/site-packages (from importlib-metadata>=0.5; python_version < \"3.8\"->path>=13.1.0->Scoreboard==0.4) (2.2.0)\n",
      "Requirement already satisfied, skipping upgrade: decorator in /home/osman.yogurtcu/anaconda3/lib/python3.7/site-packages (from traitlets>=4.2->nbclient>=0.2.0->papermill->Scoreboard==0.4) (4.4.1)\n",
      "Requirement already satisfied, skipping upgrade: pyrsistent>=0.14.0 in /home/osman.yogurtcu/anaconda3/lib/python3.7/site-packages (from jsonschema!=2.5.0,>=2.4->nbformat->papermill->Scoreboard==0.4) (0.15.7)\n",
      "Requirement already satisfied, skipping upgrade: setuptools in /home/osman.yogurtcu/anaconda3/lib/python3.7/site-packages (from jsonschema!=2.5.0,>=2.4->nbformat->papermill->Scoreboard==0.4) (46.1.3)\n",
      "Installing collected packages: Scoreboard\n",
      "  Attempting uninstall: Scoreboard\n",
      "    Found existing installation: Scoreboard 0.4\n",
      "    Uninstalling Scoreboard-0.4:\n",
      "      Successfully uninstalled Scoreboard-0.4\n",
      "  Running setup.py develop for Scoreboard\n",
      "Successfully installed Scoreboard\n"
     ]
    }
   ],
   "source": [
    "!pip install --upgrade -e ."
   ]
  },
  {
   "cell_type": "code",
   "execution_count": 5,
   "metadata": {},
   "outputs": [],
   "source": [
    "os.chdir(mypwd[0])"
   ]
  },
  {
   "cell_type": "code",
   "execution_count": 6,
   "metadata": {},
   "outputs": [
    {
     "name": "stdout",
     "output_type": "stream",
     "text": [
      "/home/osman.yogurtcu/Documents/Projects/Python/Scoreboard/Notebooks\r\n"
     ]
    }
   ],
   "source": [
    "!pwd"
   ]
  },
  {
   "cell_type": "markdown",
   "metadata": {},
   "source": [
    "# IMPORTS"
   ]
  },
  {
   "cell_type": "code",
   "execution_count": 7,
   "metadata": {},
   "outputs": [],
   "source": [
    "import Scoreboard19 as S19\n",
    "from tqdm import tqdm\n",
    "import scipy.interpolate\n",
    "import pandas as pd\n",
    "import numpy as np\n",
    "from datetime import date, datetime, timedelta\n",
    "import matplotlib.pyplot as plt\n",
    "import matplotlib.ticker as ticker\n",
    "import matplotlib.pylab as pl\n",
    "import matplotlib.dates as mdates\n",
    "import shutil\n",
    "import glob"
   ]
  },
  {
   "cell_type": "markdown",
   "metadata": {},
   "source": [
    "# READ PREDICTIONS FROM COVID HUB"
   ]
  },
  {
   "cell_type": "code",
   "execution_count": 8,
   "metadata": {},
   "outputs": [],
   "source": [
    "newPath = shutil.copy('../Rcode/read_processed_dataONY.R', \n",
    "                      covidhubdir)\n",
    "os.chdir(covidhubdir)"
   ]
  },
  {
   "cell_type": "code",
   "execution_count": 9,
   "metadata": {},
   "outputs": [
    {
     "name": "stdout",
     "output_type": "stream",
     "text": [
      "rm: cannot remove '*.csv': No such file or directory\r\n"
     ]
    }
   ],
   "source": [
    "rm *.csv"
   ]
  },
  {
   "cell_type": "code",
   "execution_count": 10,
   "metadata": {},
   "outputs": [
    {
     "name": "stdout",
     "output_type": "stream",
     "text": [
      "/home/osman.yogurtcu/Documents/Projects/Python/covid19-forecast-hub\n"
     ]
    }
   ],
   "source": [
    "cd .."
   ]
  },
  {
   "cell_type": "code",
   "execution_count": 11,
   "metadata": {},
   "outputs": [
    {
     "name": "stdout",
     "output_type": "stream",
     "text": [
      "remote: Enumerating objects: 33, done.\u001b[K\n",
      "remote: Counting objects: 100% (33/33), done.\u001b[K\n",
      "remote: Compressing objects: 100% (2/2), done.\u001b[K\n",
      "remote: Total 41 (delta 31), reused 31 (delta 31), pack-reused 8\u001b[K\n",
      "Unpacking objects: 100% (41/41), 25.94 MiB | 3.55 MiB/s, done.\n",
      "From https://github.com/reichlab/covid19-forecast-hub\n",
      "   f87f823b..e51ae385  master     -> origin/master\n",
      "Updating f87f823b..e51ae385\n",
      "Updating files: 100% (23/23), done.\n",
      "Fast-forward\n",
      " .../LANL-GrowthRate/2020-11-05-LANL-GrowthRate.csv | 226393 \u001b[32m++++++++++++++++++\u001b[m\n",
      " data-truth/nytimes/raw/us-counties.csv             |  22709 \u001b[32m+\u001b[m\u001b[31m-\u001b[m\n",
      " data-truth/nytimes/raw/us-states.csv               |    387 \u001b[32m+\u001b[m\u001b[31m-\u001b[m\n",
      " data-truth/nytimes/raw/us.csv                      |      9 \u001b[32m+\u001b[m\u001b[31m-\u001b[m\n",
      " .../nytimes/truth_nytimes-Cumulative Cases.csv     |  23099 \u001b[32m++\u001b[m\n",
      " .../nytimes/truth_nytimes-Cumulative Deaths.csv    |  23105 \u001b[32m+\u001b[m\u001b[31m-\u001b[m\n",
      " .../nytimes/truth_nytimes-Incident Cases.csv       |  23099 \u001b[32m++\u001b[m\n",
      " .../nytimes/truth_nytimes-Incident Deaths.csv      |  23105 \u001b[32m+\u001b[m\u001b[31m-\u001b[m\n",
      " data-truth/truth-Cumulative Cases.csv              |  16638 \u001b[32m+\u001b[m\u001b[31m-\u001b[m\n",
      " data-truth/truth-Cumulative Deaths.csv             |  16056 \u001b[32m+\u001b[m\u001b[31m-\u001b[m\n",
      " data-truth/truth-Incident Cases.csv                |  16042 \u001b[32m+\u001b[m\u001b[31m-\u001b[m\n",
      " data-truth/truth-Incident Deaths.csv               |  16002 \u001b[32m+\u001b[m\u001b[31m-\u001b[m\n",
      " .../usafacts/raw/covid_confirmed_usafacts.csv      |   6392 \u001b[32m+\u001b[m\u001b[31m-\u001b[m\n",
      " data-truth/usafacts/raw/covid_deaths_usafacts.csv  |   6392 \u001b[32m+\u001b[m\u001b[31m-\u001b[m\n",
      " .../usafacts/truth_usafacts-Cumulative Cases.csv   |  23030 \u001b[32m+\u001b[m\u001b[31m-\u001b[m\n",
      " .../usafacts/truth_usafacts-Cumulative Deaths.csv  |  23180 \u001b[32m+\u001b[m\u001b[31m-\u001b[m\n",
      " .../usafacts/truth_usafacts-Incident Cases.csv     |  22600 \u001b[32m+\u001b[m\u001b[31m-\u001b[m\n",
      " .../usafacts/truth_usafacts-Incident Deaths.csv    |  22608 \u001b[32m+\u001b[m\u001b[31m-\u001b[m\n",
      " data-truth/zoltar-truth.csv                        |  48980 \u001b[32m++\u001b[m\u001b[31m--\u001b[m\n",
      " .../dist/truth/Cumulative Cases.json               |      2 \u001b[32m+\u001b[m\u001b[31m-\u001b[m\n",
      " .../dist/truth/Cumulative Deaths.json              |      2 \u001b[32m+\u001b[m\u001b[31m-\u001b[m\n",
      " .../covid-csv-tools/dist/truth/Incident Cases.json |      2 \u001b[32m+\u001b[m\u001b[31m-\u001b[m\n",
      " .../dist/truth/Incident Deaths.json                |      2 \u001b[32m+\u001b[m\u001b[31m-\u001b[m\n",
      " 23 files changed, 518522 insertions(+), 41312 deletions(-)\n",
      " create mode 100644 data-processed/LANL-GrowthRate/2020-11-05-LANL-GrowthRate.csv\n"
     ]
    }
   ],
   "source": [
    "# !git fetch origin\n",
    "# !git reset --hard origin/master\n",
    "!git pull"
   ]
  },
  {
   "cell_type": "code",
   "execution_count": 12,
   "metadata": {},
   "outputs": [
    {
     "name": "stdout",
     "output_type": "stream",
     "text": [
      "/home/osman.yogurtcu/Documents/Projects/Python/covid19-forecast-hub/data-processed\n"
     ]
    }
   ],
   "source": [
    "cd data-processed"
   ]
  },
  {
   "cell_type": "code",
   "execution_count": 13,
   "metadata": {},
   "outputs": [
    {
     "name": "stdout",
     "output_type": "stream",
     "text": [
      "\r\n",
      "Attaching package: ‘dplyr’\r\n",
      "\r\n",
      "The following objects are masked from ‘package:stats’:\r\n",
      "\r\n",
      "    filter, lag\r\n",
      "\r\n",
      "The following objects are masked from ‘package:base’:\r\n",
      "\r\n",
      "    intersect, setdiff, setequal, union\r\n",
      "\r\n"
     ]
    }
   ],
   "source": [
    "#Read forecasts in COVID-19 Forecast Hub - this step takes some time\n",
    "!Rscript read_processed_dataONY.R"
   ]
  },
  {
   "cell_type": "code",
   "execution_count": 14,
   "metadata": {},
   "outputs": [],
   "source": [
    "files = glob.iglob(os.path.join(os.getcwd(), \"*.osf\"))\n",
    "for file in files:\n",
    "    if os.path.isfile(file):\n",
    "        shutil.copy2(file, mypwd[0])"
   ]
  },
  {
   "cell_type": "code",
   "execution_count": 16,
   "metadata": {},
   "outputs": [
    {
     "ename": "ValueError",
     "evalue": "too many values to unpack (expected 2)",
     "output_type": "error",
     "traceback": [
      "\u001b[0;31m---------------------------------------------------------------------------\u001b[0m",
      "\u001b[0;31mValueError\u001b[0m                                Traceback (most recent call last)",
      "\u001b[0;32m<ipython-input-16-af1e084c247c>\u001b[0m in \u001b[0;36m<module>\u001b[0;34m\u001b[0m\n\u001b[1;32m     10\u001b[0m \u001b[0;34m\u001b[0m\u001b[0m\n\u001b[1;32m     11\u001b[0m \u001b[0;32mwith\u001b[0m \u001b[0mopen\u001b[0m\u001b[0;34m(\u001b[0m\u001b[0moutfilename\u001b[0m\u001b[0;34m,\u001b[0m \u001b[0;34m'wb'\u001b[0m\u001b[0;34m)\u001b[0m \u001b[0;32mas\u001b[0m \u001b[0moutfile\u001b[0m\u001b[0;34m:\u001b[0m\u001b[0;34m\u001b[0m\u001b[0;34m\u001b[0m\u001b[0m\n\u001b[0;32m---> 12\u001b[0;31m     \u001b[0;32mfor\u001b[0m \u001b[0mi\u001b[0m\u001b[0;34m,\u001b[0m \u001b[0mfilename\u001b[0m \u001b[0;32min\u001b[0m \u001b[0mglob\u001b[0m\u001b[0;34m.\u001b[0m\u001b[0mglob\u001b[0m\u001b[0;34m(\u001b[0m\u001b[0;34m'*.osf'\u001b[0m\u001b[0;34m)\u001b[0m\u001b[0;34m:\u001b[0m\u001b[0;34m\u001b[0m\u001b[0;34m\u001b[0m\u001b[0m\n\u001b[0m\u001b[1;32m     13\u001b[0m         \u001b[0;32mif\u001b[0m \u001b[0mfilename\u001b[0m \u001b[0;34m==\u001b[0m \u001b[0moutfilename\u001b[0m\u001b[0;34m:\u001b[0m\u001b[0;34m\u001b[0m\u001b[0;34m\u001b[0m\u001b[0m\n\u001b[1;32m     14\u001b[0m             \u001b[0;31m# don't want to copy the output into the output\u001b[0m\u001b[0;34m\u001b[0m\u001b[0;34m\u001b[0m\u001b[0;34m\u001b[0m\u001b[0m\n",
      "\u001b[0;31mValueError\u001b[0m: too many values to unpack (expected 2)"
     ]
    }
   ],
   "source": [
    "os.chdir(mypwd[0])\n",
    "\n",
    "files = glob.iglob(os.path.join(os.getcwd(), \"*.osf\"))\n",
    "for file in files:\n",
    "    if os.path.isfile(file):\n",
    "        shutil.move(os.path.join(os.getcwd(), file), os.path.join(gitdir + '/' + 'Data/', file))        \n",
    "\n",
    "os.chdir(gitdir + '/' + 'Data/')        \n",
    "outfilename = 'all_dataONY.csv'\n",
    "find = 0\n",
    "        \n",
    "with open(outfilename, 'wb') as outfile:\n",
    "    for filename in glob.glob('*.osf'):\n",
    "        find += 1\n",
    "        if filename == outfilename:\n",
    "            # don't want to copy the output into the output\n",
    "            continue\n",
    "        with open(filename, 'rb') as readfile:\n",
    "            if find != 1:\n",
    "                readfile.readline()  # Throw away header on all but first file\n",
    "            shutil.copyfileobj(readfile, outfile)        \n",
    "            \n",
    "os.chdir(mypwd[0])            "
   ]
  },
  {
   "cell_type": "markdown",
   "metadata": {},
   "source": [
    "# BUILD SCOREBOARD"
   ]
  },
  {
   "cell_type": "markdown",
   "metadata": {},
   "source": [
    "## BUILD SCOREBOARD FOR INCIDENTAL CASES"
   ]
  },
  {
   "cell_type": "code",
   "execution_count": null,
   "metadata": {},
   "outputs": [],
   "source": [
    "US_cases = S19.readobservedcases()\n",
    "S19.plotUSIncCases(US_cases)"
   ]
  },
  {
   "cell_type": "code",
   "execution_count": null,
   "metadata": {},
   "outputs": [],
   "source": [
    "FirstForecasts = S19.getscoreboard(US_cases,'Case','../Data/ScoreboardCases.pkl')"
   ]
  },
  {
   "cell_type": "code",
   "execution_count": null,
   "metadata": {},
   "outputs": [],
   "source": [
    "S19.numberofteamsincovidhub(FirstForecasts)"
   ]
  },
  {
   "cell_type": "code",
   "execution_count": null,
   "metadata": {},
   "outputs": [],
   "source": [
    "ScoreboardCases = pd.read_pickle('../Data/ScoreboardCases.pkl')\n",
    "S19.plotdifferencescdfpdf(ScoreboardCases,'Case')\n",
    "modeltypesCases = S19.getmodeltypes(ScoreboardCases)"
   ]
  },
  {
   "cell_type": "code",
   "execution_count": null,
   "metadata": {},
   "outputs": [],
   "source": [
    "%%capture cap --no-stderr\n",
    "themodels = ScoreboardCases['model'].unique()\n",
    "for i in range(0,len(themodels)):\n",
    "    print(themodels[i])"
   ]
  },
  {
   "cell_type": "code",
   "execution_count": null,
   "metadata": {},
   "outputs": [],
   "source": [
    "#Writing out all the models in the scoreboard into a text file\n",
    "with open('../INCCASE_Models.txt', 'w') as f:\n",
    "    f.write(cap.stdout)"
   ]
  },
  {
   "cell_type": "code",
   "execution_count": null,
   "metadata": {},
   "outputs": [],
   "source": [
    "#Eliminate scores that do not have the proper score quantiles\n",
    "delete_row = ScoreboardCases[ScoreboardCases[\"proper\"]==False].index\n",
    "ScoreboardCases.drop(delete_row,inplace=True)"
   ]
  },
  {
   "cell_type": "code",
   "execution_count": null,
   "metadata": {},
   "outputs": [],
   "source": [
    "S19.plotallscoresdist(ScoreboardCases,figuresdirectory,'Case')"
   ]
  },
  {
   "cell_type": "code",
   "execution_count": null,
   "metadata": {},
   "outputs": [],
   "source": [
    "int(ScoreboardCases['deltaW'].max())"
   ]
  },
  {
   "cell_type": "code",
   "execution_count": null,
   "metadata": {},
   "outputs": [],
   "source": [
    "S19.plotlongitudinalALL(US_cases,ScoreboardCases,'Cases',1)"
   ]
  },
  {
   "cell_type": "code",
   "execution_count": null,
   "metadata": {},
   "outputs": [],
   "source": [
    "S19.plotlongitudinalALL(US_cases,ScoreboardCases,'Cases',4)"
   ]
  },
  {
   "cell_type": "code",
   "execution_count": null,
   "metadata": {},
   "outputs": [],
   "source": [
    "S19.plotlongitudinal(US_cases,ScoreboardCases,'Cases',1,'CEID:Walk')"
   ]
  },
  {
   "cell_type": "markdown",
   "metadata": {},
   "source": [
    "## BUILD SCOREBOARD FOR CUMULATIVE DEATHS"
   ]
  },
  {
   "cell_type": "code",
   "execution_count": null,
   "metadata": {},
   "outputs": [],
   "source": [
    "US_deaths = S19.readobserveddeaths()\n",
    "S19.plotUSCumDeaths(US_deaths)"
   ]
  },
  {
   "cell_type": "code",
   "execution_count": null,
   "metadata": {},
   "outputs": [],
   "source": [
    "FirstForecasts = S19.getscoreboard(US_deaths,'Death','../Data/ScoreboardDeaths.pkl')"
   ]
  },
  {
   "cell_type": "code",
   "execution_count": null,
   "metadata": {},
   "outputs": [],
   "source": [
    "S19.numberofteamsincovidhub(FirstForecasts)"
   ]
  },
  {
   "cell_type": "code",
   "execution_count": null,
   "metadata": {},
   "outputs": [],
   "source": [
    "ScoreboardDeaths = pd.read_pickle('../Data/ScoreboardDeaths.pkl')\n",
    "S19.plotdifferencescdfpdf(ScoreboardDeaths,'Death')\n",
    "modeltypesDeaths = S19.getmodeltypes(ScoreboardDeaths)"
   ]
  },
  {
   "cell_type": "code",
   "execution_count": null,
   "metadata": {},
   "outputs": [],
   "source": [
    "%%capture cap --no-stderr\n",
    "themodels = ScoreboardDeaths['model'].unique()\n",
    "for i in range(0,len(themodels)):\n",
    "    print(themodels[i])"
   ]
  },
  {
   "cell_type": "code",
   "execution_count": null,
   "metadata": {},
   "outputs": [],
   "source": [
    "#Writing out all the models in the scoreboard into a text file\n",
    "with open('../CUMDEATH_Models.txt', 'w') as f:\n",
    "    f.write(cap.stdout)"
   ]
  },
  {
   "cell_type": "code",
   "execution_count": null,
   "metadata": {},
   "outputs": [],
   "source": [
    "#Eliminate scores that do not have the proper score quantiles\n",
    "delete_row = ScoreboardDeaths[ScoreboardDeaths[\"proper\"]==False].index\n",
    "ScoreboardDeaths.drop(delete_row,inplace=True)"
   ]
  },
  {
   "cell_type": "code",
   "execution_count": null,
   "metadata": {},
   "outputs": [],
   "source": [
    "S19.plotallscoresdist(ScoreboardDeaths,figuresdirectory,'Death')"
   ]
  },
  {
   "cell_type": "code",
   "execution_count": null,
   "metadata": {},
   "outputs": [],
   "source": [
    "S19.plotlongitudinalALL(US_deaths,ScoreboardDeaths,'Deaths',1)"
   ]
  },
  {
   "cell_type": "code",
   "execution_count": null,
   "metadata": {},
   "outputs": [],
   "source": [
    "S19.plotlongitudinalALL(US_deaths,ScoreboardDeaths,'Deaths',4)"
   ]
  },
  {
   "cell_type": "code",
   "execution_count": null,
   "metadata": {},
   "outputs": [],
   "source": [
    "S19.plotlongitudinal(US_deaths,ScoreboardDeaths,'Deaths',1,'COVIDhub:baseline')"
   ]
  },
  {
   "cell_type": "code",
   "execution_count": null,
   "metadata": {},
   "outputs": [],
   "source": [
    "S19.plotlongitudinal(US_deaths,ScoreboardDeaths,'Deaths',4,'COVIDhub:baseline')"
   ]
  },
  {
   "cell_type": "markdown",
   "metadata": {},
   "source": [
    "# UNWEIGHTED FORECASTING"
   ]
  },
  {
   "cell_type": "code",
   "execution_count": null,
   "metadata": {},
   "outputs": [],
   "source": [
    "S19.plotlongitudinalUNWEIGHTED(US_deaths,ScoreboardDeaths,'Deaths',7)"
   ]
  },
  {
   "cell_type": "code",
   "execution_count": null,
   "metadata": {},
   "outputs": [],
   "source": [
    "S19.plotlongitudinalUNWEIGHTED(US_cases,ScoreboardCases,'Cases',7)"
   ]
  },
  {
   "cell_type": "markdown",
   "metadata": {},
   "source": [
    "# SCORE WEIGHTED FORECASTING"
   ]
  },
  {
   "cell_type": "code",
   "execution_count": null,
   "metadata": {},
   "outputs": [],
   "source": [
    "Scoreboard.replace([np.inf, -np.inf], np.nan,inplace=True)\n",
    "Scoreboard.dropna(inplace=True)\n",
    "Scoreboard = Scoreboard.sort_values('forecast_date').drop_duplicates(subset=['model', 'target_end_date'], keep='last').copy()\n",
    "Scoreboard.reset_index(inplace=True)\n",
    "#np.median(Scoreboard[\"value\"].to_list())\n",
    "# pd.DataFrame(Scoreboard['quantile'].to_list()).idxmax(axis=1)\n",
    "# pd.DataFrame(Scoreboard['quantile'].to_list()).idxmin(axis=1)\n",
    "Scoreboard['score'] = 1\n",
    "Scoreboard['CIHI']=pd.DataFrame(Scoreboard['value'].to_list()).max(axis=1)\n",
    "Scoreboard['CILO']=pd.DataFrame(Scoreboard['value'].to_list()).min(axis=1)\n",
    "Scoreboard['PE']=pd.DataFrame(Scoreboard['value'].to_list()).median(axis=1)\n",
    "Scoreboard['scorecontr']=np.exp(-Scoreboard['score']/2)\n",
    "Scoreboard['CIHI_W']=Scoreboard['CIHI']*Scoreboard['scorecontr']\n",
    "Scoreboard['CILO_W']=Scoreboard['CILO']*Scoreboard['scorecontr']\n",
    "Scoreboard['PE_W']=Scoreboard['PE']*Scoreboard['scorecontr']\n",
    "Scoreboard['P_W']=Scoreboard['p']*Scoreboard['scorecontr']\n",
    "Scoreboard.head(3)"
   ]
  },
  {
   "cell_type": "code",
   "execution_count": null,
   "metadata": {},
   "outputs": [],
   "source": []
  },
  {
   "cell_type": "code",
   "execution_count": null,
   "metadata": {},
   "outputs": [],
   "source": [
    "def splitscoreboardbydate(Scoreboardx,datecut,weekcut):\n",
    "    #str datecut e.g. '2020-07-01'\n",
    "    #Make sure we take only one prediction per model\n",
    "    \n",
    "    Scoreboard = Scoreboardx[Scoreboardx['deltaW']==weekcut].copy()\n",
    "    \n",
    "    Scoreboardearly = Scoreboard[Scoreboard['target_end_date']<datecut].copy()\n",
    "\n",
    "    Scoreboardearly.dropna(subset=['score'],inplace=True)\n",
    "    Scoreboardearly.reset_index(inplace=True)    \n",
    "    \n",
    "    listofavailablemodels = Scoreboardearly['model'].unique().tolist()\n",
    "    \n",
    "    ScoreboardlateFull = Scoreboard[Scoreboard['target_end_date']>=datecut].copy()    \n",
    "    Scoreboardlate = ScoreboardlateFull[ScoreboardlateFull['model'].isin(listofavailablemodels)].copy()\n",
    "    Scoreboardlate.reset_index(inplace=True)\n",
    "    \n",
    "    return (ScoreboardlateFull,Scoreboardlate,Scoreboardearly)"
   ]
  },
  {
   "cell_type": "code",
   "execution_count": null,
   "metadata": {},
   "outputs": [],
   "source": [
    "[lateBFull,lateB,earlyB] = splitscoreboardbydate(ScoreboardDeaths,'2020-08-01',4)"
   ]
  },
  {
   "cell_type": "code",
   "execution_count": null,
   "metadata": {},
   "outputs": [],
   "source": [
    "print(len(earlyB),len(lateB),len(lateBFull))"
   ]
  },
  {
   "cell_type": "code",
   "execution_count": null,
   "metadata": {},
   "outputs": [],
   "source": [
    "lateBFull.target_end_date.unique()"
   ]
  },
  {
   "cell_type": "code",
   "execution_count": null,
   "metadata": {},
   "outputs": [],
   "source": [
    "if case=='Cases':\n",
    "    mylist = [0.025, 0.1, 0.25, 0.5, 0.75, 0.9, 0.975]\n",
    "elif case=='Deaths':\n",
    "    mylist = [0.01,0.025, 0.05, 0.1, 0.15, 0.2, 0.25, 0.3, 0.35, 0.4,\n",
    "     0.45, 0.5, 0.55, 0.6, 0.65, 0.7, 0.75, 0.8, 0.85, 0.9, 0.95, 0.975, 0.99]\n",
    "\n",
    "for Index in tqdm(range(0,len(Scoreboard))):    \n",
    "\n",
    "    qs = Scoreboard.iloc[Index, Scoreboard.columns.get_loc('quantile')]\n",
    "    vs = Scoreboard.iloc[Index, Scoreboard.columns.get_loc('value')]\n",
    "    \n",
    "    for i in mylist:\n",
    "        loc = qs.index(i)\n",
    "        vso[i] = wmodel * vs[loc]\n",
    "        \n",
    "    qso = mylist"
   ]
  },
  {
   "cell_type": "code",
   "execution_count": null,
   "metadata": {},
   "outputs": [],
   "source": [
    "lateBFull.iloc[0, lateBFull.columns.get_loc('value')] = np.sort(lateBFull.iloc[0, lateBFull.columns.get_loc('value')]).tolist()\n"
   ]
  },
  {
   "cell_type": "code",
   "execution_count": null,
   "metadata": {},
   "outputs": [],
   "source": [
    "mylist = [0.01,0.025, 0.05, 0.1, 0.15, 0.2, 0.25, 0.3, 0.35, 0.4,\n",
    " 0.45, 0.5, 0.55, 0.6, 0.65, 0.7, 0.75, 0.8, 0.85, 0.9, 0.95, 0.975, 0.99]\n",
    "\n",
    "for i in mylist:\n",
    "    loc = qs.index(i)\n",
    "    vso[i] = wmodel * vs[loc]\n",
    "    "
   ]
  },
  {
   "cell_type": "code",
   "execution_count": null,
   "metadata": {},
   "outputs": [],
   "source": [
    "lateBFull.pivot(index='target_end_date', columns='model', values=['value'])"
   ]
  },
  {
   "cell_type": "code",
   "execution_count": null,
   "metadata": {},
   "outputs": [],
   "source": [
    "mylist[0]"
   ]
  },
  {
   "cell_type": "code",
   "execution_count": null,
   "metadata": {},
   "outputs": [],
   "source": [
    "lateB['deltaW'].hist()\n",
    "earlyB['deltaW'].hist()"
   ]
  },
  {
   "cell_type": "code",
   "execution_count": null,
   "metadata": {},
   "outputs": [],
   "source": [
    "[lateB,earlyB] = splitscoreboardbydate(ScoreboardCases,'2020-08-01')"
   ]
  },
  {
   "cell_type": "code",
   "execution_count": null,
   "metadata": {},
   "outputs": [],
   "source": [
    "lateB['deltaW'].hist()"
   ]
  },
  {
   "cell_type": "code",
   "execution_count": null,
   "metadata": {},
   "outputs": [],
   "source": [
    "len(lateB[lateB['deltaW']==4])\n",
    "len(earlyB[earlyB['deltaW']==4])"
   ]
  },
  {
   "cell_type": "code",
   "execution_count": null,
   "metadata": {},
   "outputs": [],
   "source": []
  },
  {
   "cell_type": "code",
   "execution_count": null,
   "metadata": {},
   "outputs": [],
   "source": [
    "Scoreboardlate = Scoreboard[Scoreboard['forecast_date']>='2020-07-01'].copy()\n",
    "Scoreboardlate.head(3)"
   ]
  },
  {
   "cell_type": "code",
   "execution_count": null,
   "metadata": {},
   "outputs": [],
   "source": [
    "frozenscores = Scoreboard[Scoreboard['forecast_date']<'2020-07-01'].groupby('model')['score'].mean().reset_index()\n",
    "frozenscores\n",
    "rename_dict = frozenscores.set_index('model').to_dict()['score']\n",
    "\n",
    "Scoreboardlate['score'] = np.nan\n",
    "Scoreboardlate['score'] = Scoreboardlate.set_index(['model']).index.map(rename_dict.get)\n",
    "Scoreboardlate.dropna(inplace=True)\n",
    "\n",
    "Scoreboardlate.replace([np.inf, -np.inf], np.nan,inplace=True)\n",
    "Scoreboardlate['scorecontr']=np.exp(-Scoreboardlate['score']/2)\n",
    "Scoreboardlate['CIHI_W']=Scoreboardlate['CIHI']*Scoreboardlate['scorecontr']\n",
    "Scoreboardlate['CILO_W']=Scoreboardlate['CILO']*Scoreboardlate['scorecontr']\n",
    "Scoreboardlate['PE_W']=Scoreboardlate['PE']*Scoreboardlate['scorecontr']\n",
    "Scoreboardlate['P_W']=Scoreboardlate['p']*Scoreboardlate['scorecontr']"
   ]
  },
  {
   "cell_type": "code",
   "execution_count": null,
   "metadata": {},
   "outputs": [],
   "source": [
    "# Scoreboard.to_csv('Scoreboard.csv')\n",
    "scoreweighted = (Scoreboardlate.groupby(['target_end_date'],\n",
    "                                        as_index=False)[['scorecontr','CIHI_W','CILO_W','PE_W', 'P_W','deaths']].agg(lambda x: list(x)))\n",
    "scoreweighted['sumW']=pd.DataFrame(scoreweighted['scorecontr'].to_list()).sum(axis=1)\n",
    "scoreweighted['avgCIHI']=pd.DataFrame(scoreweighted['CIHI_W'].to_list()).sum(axis=1)/scoreweighted['sumW']\n",
    "scoreweighted['avgCILO']=pd.DataFrame(scoreweighted['CILO_W'].to_list()).sum(axis=1)/scoreweighted['sumW']\n",
    "scoreweighted['avgPE']=pd.DataFrame(scoreweighted['PE_W'].to_list()).sum(axis=1)/scoreweighted['sumW']\n",
    "scoreweighted['avgP']=2*np.log(pd.DataFrame(scoreweighted['P_W'].to_list()).sum(axis=1)/scoreweighted['sumW'])+1+np.log(pd.DataFrame(scoreweighted['deaths'].to_list()).min(axis=1))+np.log(2*np.pi)\n",
    "scoreweighted.to_csv('ScorelateWeightedProj.csv')"
   ]
  },
  {
   "cell_type": "code",
   "execution_count": null,
   "metadata": {},
   "outputs": [],
   "source": [
    "# Scoreboard.to_csv('Scoreboard.csv')\n",
    "scoreweighted = (Scoreboard.groupby(['target_end_date'],\n",
    "                                        as_index=False)[['scorecontr','CIHI_W','CILO_W','PE_W', 'P_W','deaths']].agg(lambda x: list(x)))\n",
    "scoreweighted['sumW']=pd.DataFrame(scoreweighted['scorecontr'].to_list()).sum(axis=1)\n",
    "scoreweighted['avgCIHI']=pd.DataFrame(scoreweighted['CIHI_W'].to_list()).sum(axis=1)/scoreweighted['sumW']\n",
    "scoreweighted['avgCILO']=pd.DataFrame(scoreweighted['CILO_W'].to_list()).sum(axis=1)/scoreweighted['sumW']\n",
    "scoreweighted['avgPE']=pd.DataFrame(scoreweighted['PE_W'].to_list()).sum(axis=1)/scoreweighted['sumW']\n",
    "scoreweighted['avgP']=2*np.log(pd.DataFrame(scoreweighted['P_W'].to_list()).sum(axis=1)/scoreweighted['sumW'])+1+np.log(pd.DataFrame(scoreweighted['deaths'].to_list()).min(axis=1))+np.log(2*np.pi)\n",
    "scoreweighted.to_csv('ScoreWeightedProj.csv')"
   ]
  },
  {
   "cell_type": "code",
   "execution_count": null,
   "metadata": {},
   "outputs": [],
   "source": [
    "plt.figure(num=None, figsize=(14, 8), dpi=80, facecolor='w', edgecolor='k')\n",
    "models = Scoreboard['model'].unique()\n",
    "colors = pl.cm.jet(np.linspace(0,1,len(models)))\n",
    "i = 10\n",
    "#for curmod in models:\n",
    "curmod = 'Score Weighted Ensemble'    \n",
    "dates = scoreweighted.target_end_date\n",
    "P = scoreweighted.avgP\n",
    "# CIlow = scoreweighted.avgCILO\n",
    "# CIhi = scoreweighted.avgCIHI\n",
    "\n",
    "modcol = (colors[i].tolist()[0],\n",
    "          colors[i].tolist()[1],\n",
    "          colors[i].tolist()[2])\n",
    "\n",
    "#plt.plot(US_deaths['DateObserved'],US_deaths['Deaths'],color='k',linewidth=7.0,label='Observed')    \n",
    "\n",
    "plt.plot(dates,P,color=modcol,label=curmod,linewidth=4.0)\n",
    "# plt.fill_between(dates, CIlow, CIhi, color=modcol, alpha=.1)\n",
    "\n",
    "# plt.ylim([0,260000])\n",
    "plt.ylabel('Score: US Cumulative Deaths', fontsize=18)\n",
    "plt.xlabel('Date', fontsize=18)\n",
    "plt.xticks(rotation=45, fontsize=13)\n",
    "plt.yticks(fontsize=13)\n",
    "plt.legend(loc='upper left')\n",
    "plt.fmt_xdata = mdates.DateFormatter('%m-%d')\n",
    "plt.savefig(gitdir+'Figures/Projections/Score_ScoreWeighted4wkAhead_CUMDEATH.png',\n",
    "            dpi=300,\n",
    "           bbox_inches = 'tight')"
   ]
  },
  {
   "cell_type": "code",
   "execution_count": null,
   "metadata": {},
   "outputs": [],
   "source": [
    "plt.figure(num=None, figsize=(14, 8), dpi=80, facecolor='w', edgecolor='k')\n",
    "models = Scoreboard['model'].unique()\n",
    "colors = pl.cm.jet(np.linspace(0,1,len(models)))\n",
    "i = 10\n",
    "#for curmod in models:\n",
    "curmod = 'Score Weighted Ensemble'    \n",
    "dates = scoreweighted.target_end_date\n",
    "PE = scoreweighted.avgPE\n",
    "CIlow = scoreweighted.avgCILO\n",
    "CIhi = scoreweighted.avgCIHI\n",
    "\n",
    "modcol = (colors[i].tolist()[0],\n",
    "          colors[i].tolist()[1],\n",
    "          colors[i].tolist()[2])\n",
    "\n",
    "plt.plot(US_deaths['DateObserved'],US_deaths['Deaths'],color='k',linewidth=7.0,label='Observed')    \n",
    "\n",
    "plt.plot(dates,PE,color=modcol,label=curmod,linewidth=4.0)\n",
    "plt.fill_between(dates, CIlow, CIhi, color=modcol, alpha=.1)\n",
    "\n",
    "plt.axvline(x=datetime.strptime('Jul 01 2020', '%b %d %Y'),color='r',linestyle='dashed',label='Scoring phase completed')\n",
    "\n",
    "plt.ylim([0,260000])\n",
    "plt.ylabel('US Cumulative Deaths', fontsize=18)\n",
    "plt.xlabel('Date', fontsize=18)\n",
    "plt.xticks(rotation=45, fontsize=13)\n",
    "plt.yticks(fontsize=13)\n",
    "plt.legend(loc='upper left')\n",
    "plt.fmt_xdata = mdates.DateFormatter('%m-%d')\n",
    "plt.savefig(gitdir+'Figures/Projections/ScoreWeighted4wkAhead_CUMDEATH.png',\n",
    "            dpi=300,\n",
    "           bbox_inches = 'tight')"
   ]
  },
  {
   "cell_type": "code",
   "execution_count": null,
   "metadata": {},
   "outputs": [],
   "source": []
  },
  {
   "cell_type": "code",
   "execution_count": null,
   "metadata": {},
   "outputs": [],
   "source": []
  },
  {
   "cell_type": "code",
   "execution_count": null,
   "metadata": {},
   "outputs": [],
   "source": []
  },
  {
   "cell_type": "code",
   "execution_count": null,
   "metadata": {},
   "outputs": [],
   "source": []
  },
  {
   "cell_type": "code",
   "execution_count": null,
   "metadata": {},
   "outputs": [],
   "source": []
  },
  {
   "cell_type": "code",
   "execution_count": null,
   "metadata": {},
   "outputs": [],
   "source": []
  },
  {
   "cell_type": "code",
   "execution_count": null,
   "metadata": {},
   "outputs": [],
   "source": []
  },
  {
   "cell_type": "code",
   "execution_count": null,
   "metadata": {},
   "outputs": [],
   "source": []
  },
  {
   "cell_type": "code",
   "execution_count": null,
   "metadata": {},
   "outputs": [],
   "source": []
  },
  {
   "cell_type": "code",
   "execution_count": null,
   "metadata": {},
   "outputs": [],
   "source": []
  },
  {
   "cell_type": "code",
   "execution_count": null,
   "metadata": {},
   "outputs": [],
   "source": []
  },
  {
   "cell_type": "code",
   "execution_count": null,
   "metadata": {},
   "outputs": [],
   "source": [
    "Scoreboardx = Scoreboard[(Scoreboard['forecast_date'] > '2020-06-27') & (Scoreboard['forecast_date'] < '2020-07-01')].copy()\n",
    "Scoreboardx.reset_index(inplace=True)\n",
    "#np.median(Scoreboard[\"value\"].to_list())\n",
    "# pd.DataFrame(Scoreboard['quantile'].to_list()).idxmax(axis=1)\n",
    "# pd.DataFrame(Scoreboard['quantile'].to_list()).idxmin(axis=1)\n",
    "Scoreboardx['CIHI']=pd.DataFrame(Scoreboardx['value'].to_list()).max(axis=1)\n",
    "Scoreboardx['CILO']=pd.DataFrame(Scoreboardx['value'].to_list()).min(axis=1)\n",
    "Scoreboardx['PE']=pd.DataFrame(Scoreboardx['value'].to_list()).median(axis=1)\n",
    "Scoreboardxx = Scoreboardx.sort_values('forecast_date').drop_duplicates(subset=['model', 'target_end_date'], keep='last').copy()\n",
    "Scoreboardxx.reset_index(inplace=True)\n",
    "Scoreboardxx.sort_values(by=['target_end_date'],inplace=True)\n",
    "# Scoreboardx.head(3)\n",
    "\n",
    "plt.figure(num=None, figsize=(14, 8), dpi=80, facecolor='w', edgecolor='k')\n",
    "models = Scoreboardxx['model'].unique()\n",
    "colors = pl.cm.jet(np.linspace(0,1,len(models)))\n",
    "i = 0\n",
    "for curmod in models:\n",
    "    \n",
    "    dates = Scoreboardxx[Scoreboardxx['model']==curmod].target_end_date\n",
    "    PE = Scoreboardxx[Scoreboardxx['model']==curmod].PE\n",
    "    CIlow = Scoreboardxx[Scoreboardxx['model']==curmod].CILO\n",
    "    CIhi = Scoreboardxx[Scoreboardxx['model']==curmod].CIHI\n",
    "    \n",
    "    modcol = (colors[i].tolist()[0],\n",
    "              colors[i].tolist()[1],\n",
    "              colors[i].tolist()[2])\n",
    "    \n",
    "    plt.plot(dates,PE,color=modcol,label=curmod,linewidth=4.0)\n",
    "    #plt.fill_between(dates, CIlow, CIhi, color=modcol, alpha=.1)\n",
    "    i = i+1\n",
    "\n",
    "plt.axvline(x=datetime.strptime('Jun 28 2020', '%b %d %Y'),color='r',linestyle='dashed')    \n",
    "plt.plot(US_deaths['DateObserved'],US_deaths['Deaths'],color='k',linewidth=7.0,label='Observed')    \n",
    "plt.ylim([0,230000])\n",
    "plt.ylabel('US Cumulative Deaths', fontsize=18)\n",
    "plt.xlabel('Date', fontsize=18)\n",
    "plt.xticks(rotation=45, fontsize=13)\n",
    "plt.yticks(fontsize=13)\n",
    "plt.legend(loc=(1.04,0),labelspacing=.9)\n",
    "plt.fmt_xdata = mdates.DateFormatter('%m-%d')\n",
    "plt.savefig(gitdir+'Figures/Projections/CUMDEATH_sinceJUN27.png',\n",
    "            dpi=300,\n",
    "           bbox_inches = 'tight')"
   ]
  },
  {
   "cell_type": "code",
   "execution_count": null,
   "metadata": {},
   "outputs": [],
   "source": [
    "Scoreboardx = Scoreboard[(Scoreboard['forecast_date'] > '2020-06-27') & (Scoreboard['forecast_date'] < '2020-07-01')].copy()\n",
    "Scoreboardx.reset_index(inplace=True)\n",
    "#np.median(Scoreboard[\"value\"].to_list())\n",
    "# pd.DataFrame(Scoreboard['quantile'].to_list()).idxmax(axis=1)\n",
    "# pd.DataFrame(Scoreboard['quantile'].to_list()).idxmin(axis=1)\n",
    "Scoreboardx['CIHI']=pd.DataFrame(Scoreboardx['value'].to_list()).max(axis=1)\n",
    "Scoreboardx['CILO']=pd.DataFrame(Scoreboardx['value'].to_list()).min(axis=1)\n",
    "Scoreboardx['PE']=pd.DataFrame(Scoreboardx['value'].to_list()).median(axis=1)\n",
    "Scoreboardxx = Scoreboardx.sort_values('forecast_date').drop_duplicates(subset=['model', 'target_end_date'], keep='first').copy()\n",
    "Scoreboardxx.reset_index(inplace=True)\n",
    "Scoreboardxx.sort_values(by=['target_end_date'],inplace=True)\n",
    "# Scoreboardx.head(3)\n",
    "\n",
    "plt.figure(num=None, figsize=(14, 8), dpi=80, facecolor='w', edgecolor='k')\n",
    "models = Scoreboardxx['model'].unique()\n",
    "colors = pl.cm.jet(np.linspace(0,1,len(models)))\n",
    "i = 5\n",
    "#for curmod in models:\n",
    "curmod = 'USACE:ERDC_SEIR'    \n",
    "dates = Scoreboardxx[Scoreboardxx['model']==curmod].target_end_date\n",
    "PE = Scoreboardxx[Scoreboardxx['model']==curmod].PE\n",
    "CIlow = Scoreboardxx[Scoreboardxx['model']==curmod].CILO\n",
    "CIhi = Scoreboardxx[Scoreboardxx['model']==curmod].CIHI\n",
    "\n",
    "modcol = (colors[i].tolist()[0],\n",
    "          colors[i].tolist()[1],\n",
    "          colors[i].tolist()[2])\n",
    "\n",
    "plt.plot(dates,PE,color=modcol,label=curmod,linewidth=4.0)\n",
    "plt.fill_between(dates, CIlow, CIhi, color=modcol, alpha=.1)\n",
    "i = i+1\n",
    "\n",
    "plt.axvline(x=datetime.strptime('Jun 28 2020', '%b %d %Y'),color='r',linestyle='dashed')    \n",
    "plt.plot(US_deaths['DateObserved'],US_deaths['Deaths'],color='k',linewidth=7.0,label='Observed')    \n",
    "plt.ylim([0,230000])\n",
    "plt.ylabel('US Cumulative Deaths', fontsize=18)\n",
    "plt.xlabel('Date', fontsize=18)\n",
    "plt.xticks(rotation=45, fontsize=13)\n",
    "plt.yticks(fontsize=13)\n",
    "plt.legend()\n",
    "plt.fmt_xdata = mdates.DateFormatter('%m-%d')\n",
    "plt.savefig(gitdir+'Figures/Projections/'+curmod+'_CUMDEATH_sinceJUN27.png',\n",
    "            dpi=300,\n",
    "           bbox_inches = 'tight')"
   ]
  },
  {
   "cell_type": "markdown",
   "metadata": {},
   "source": [
    "# ANALYSIS OF SCORES"
   ]
  },
  {
   "cell_type": "markdown",
   "metadata": {},
   "source": [
    "## Plots by date forecast made"
   ]
  },
  {
   "cell_type": "code",
   "execution_count": null,
   "metadata": {},
   "outputs": [],
   "source": [
    "S19.plotgroupsFD(ScoreboardDeaths, modeltypesDeaths, figuresdirectory, 1, 'Death')"
   ]
  },
  {
   "cell_type": "code",
   "execution_count": null,
   "metadata": {},
   "outputs": [],
   "source": [
    "S19.plotgroupsFD(ScoreboardCases, modeltypesCases, figuresdirectory, 1, 'Case')"
   ]
  },
  {
   "cell_type": "markdown",
   "metadata": {},
   "source": [
    "## Plots by target end date"
   ]
  },
  {
   "cell_type": "code",
   "execution_count": null,
   "metadata": {},
   "outputs": [],
   "source": [
    "S19.plotgroupsTD(ScoreboardDeaths, modeltypesDeaths, figuresdirectory, 'Death')"
   ]
  },
  {
   "cell_type": "code",
   "execution_count": null,
   "metadata": {
    "scrolled": false
   },
   "outputs": [],
   "source": [
    "S19.plotgroupsTD(ScoreboardCases, modeltypesCases, figuresdirectory, 'Case')"
   ]
  },
  {
   "cell_type": "markdown",
   "metadata": {},
   "source": [
    "### ADD TO GITHUB"
   ]
  },
  {
   "cell_type": "code",
   "execution_count": null,
   "metadata": {},
   "outputs": [],
   "source": [
    "os.chdir(gitdir)\n",
    "# #!git remote set-url origin https://github.com/ONYLAB/Scoreboard.git\n",
    "# #!git config credential.helper store\n",
    "# !git stash\n",
    "!git pull --rebase origin master\n",
    "!git add --all\n",
    "!git commit -am “Update”\n",
    "!git push -u origin master\n",
    "os.chdir(mypwd[0])"
   ]
  },
  {
   "cell_type": "code",
   "execution_count": null,
   "metadata": {},
   "outputs": [],
   "source": []
  }
 ],
 "metadata": {
  "kernelspec": {
   "display_name": "Python 3",
   "language": "python",
   "name": "python3"
  },
  "language_info": {
   "codemirror_mode": {
    "name": "ipython",
    "version": 3
   },
   "file_extension": ".py",
   "mimetype": "text/x-python",
   "name": "python",
   "nbconvert_exporter": "python",
   "pygments_lexer": "ipython3",
   "version": "3.7.6"
  }
 },
 "nbformat": 4,
 "nbformat_minor": 4
}
