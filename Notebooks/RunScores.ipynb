{
 "cells": [
  {
   "cell_type": "markdown",
   "metadata": {},
   "source": [
    "# TABLE OF CONTENTS"
   ]
  },
  {
   "cell_type": "markdown",
   "metadata": {},
   "source": [
    "* [Identify relevant directories and install](#IDENTIFY-DIRECTORIES-AND-INSTALL)\n",
    "* [Imports](#IMPORTS)\n",
    "* [Read forecasts](#READ-FORECASTS-FROM-COVID-HUB)\n",
    "* [Scoreboard for Weekly Incidental cases](#BUILD-SCOREBOARD-FOR-INCIDENTAL-CASES)\n",
    "* [Scoreboard for Cumulative Deaths](#BUILD-SCOREBOARD-FOR-CUMULATIVE-DEATHS)\n",
    "* [Get weighted and unweighted ensemble forecasts](#Get-weighted-and-unweighted-model-forecasts)\n",
    "    * [Unweighted](#UNWEIGHTED-FORECASTING)\n",
    "    * [Weighted](#SCORE-WEIGHTED-FORECASTING)\n",
    "* [Analysis of scores](#ANALYSIS-OF-SCORES)\n",
    "    * [By date forecasts were made](#Plots-by-date-forecast-made)\n",
    "    * [By target end date](#Plots-by-target-end-date)"
   ]
  },
  {
   "cell_type": "markdown",
   "metadata": {},
   "source": [
    "# IDENTIFY DIRECTORIES AND INSTALL"
   ]
  },
  {
   "cell_type": "code",
   "execution_count": 1,
   "metadata": {},
   "outputs": [],
   "source": [
    "#PLEASE CHANGE 'covidhubdir' TO YOUR OWN ???/???/???/covid19-forecast-hub/data-processed\n",
    "from pathlib import Path\n",
    "import os\n",
    "covidhubdir = '/home/osman.yogurtcu/Documents/Projects/Python/covid19-forecast-hub/data-processed'\n",
    "mypwd = !pwd\n",
    "gitdir = str(Path(mypwd[0]).parent)\n",
    "figuresdirectory = gitdir + '/' + 'Figures'"
   ]
  },
  {
   "cell_type": "code",
   "execution_count": 2,
   "metadata": {},
   "outputs": [
    {
     "name": "stdout",
     "output_type": "stream",
     "text": [
      "/home/osman.yogurtcu/Documents/Projects/Python/Scoreboard\n"
     ]
    }
   ],
   "source": [
    "cd .."
   ]
  },
  {
   "cell_type": "code",
   "execution_count": 3,
   "metadata": {},
   "outputs": [
    {
     "name": "stdout",
     "output_type": "stream",
     "text": [
      "Obtaining file:///home/osman.yogurtcu/Documents/Projects/Python/Scoreboard\n",
      "Requirement already satisfied, skipping upgrade: bs4 in /home/osman.yogurtcu/anaconda3/lib/python3.7/site-packages (from Scoreboard==0.4) (0.0.1)\n",
      "Requirement already satisfied, skipping upgrade: lxml in /home/osman.yogurtcu/anaconda3/lib/python3.7/site-packages (from Scoreboard==0.4) (4.5.0)\n",
      "Requirement already satisfied, skipping upgrade: matplotlib>=3.0 in /home/osman.yogurtcu/anaconda3/lib/python3.7/site-packages (from Scoreboard==0.4) (3.2.1)\n",
      "Requirement already satisfied, skipping upgrade: numexpr in /home/osman.yogurtcu/anaconda3/lib/python3.7/site-packages (from Scoreboard==0.4) (2.7.1)\n",
      "Requirement already satisfied, skipping upgrade: numpy>=1.15 in /home/osman.yogurtcu/anaconda3/lib/python3.7/site-packages (from Scoreboard==0.4) (1.18.4)\n",
      "Requirement already satisfied, skipping upgrade: pandas>=1.0 in /home/osman.yogurtcu/anaconda3/lib/python3.7/site-packages (from Scoreboard==0.4) (1.0.3)\n",
      "Requirement already satisfied, skipping upgrade: papermill in /home/osman.yogurtcu/anaconda3/lib/python3.7/site-packages (from Scoreboard==0.4) (2.1.1)\n",
      "Requirement already satisfied, skipping upgrade: p_tqdm in /home/osman.yogurtcu/anaconda3/lib/python3.7/site-packages (from Scoreboard==0.4) (1.3.3)\n",
      "Requirement already satisfied, skipping upgrade: scipy in /home/osman.yogurtcu/anaconda3/lib/python3.7/site-packages (from Scoreboard==0.4) (1.4.1)\n",
      "Requirement already satisfied, skipping upgrade: tqdm in /home/osman.yogurtcu/anaconda3/lib/python3.7/site-packages (from Scoreboard==0.4) (4.42.1)\n",
      "Requirement already satisfied, skipping upgrade: path>=13.1.0 in /home/osman.yogurtcu/anaconda3/lib/python3.7/site-packages (from Scoreboard==0.4) (13.1.0)\n",
      "Requirement already satisfied, skipping upgrade: pathlib2>=2.3.5 in /home/osman.yogurtcu/anaconda3/lib/python3.7/site-packages (from Scoreboard==0.4) (2.3.5)\n",
      "Requirement already satisfied, skipping upgrade: pathspec>=0.8.0 in /home/osman.yogurtcu/anaconda3/lib/python3.7/site-packages (from Scoreboard==0.4) (0.8.0)\n",
      "Requirement already satisfied, skipping upgrade: pathtools>=0.1.2 in /home/osman.yogurtcu/anaconda3/lib/python3.7/site-packages (from Scoreboard==0.4) (0.1.2)\n",
      "Requirement already satisfied, skipping upgrade: python-dateutil>=2.8.1 in /home/osman.yogurtcu/anaconda3/lib/python3.7/site-packages (from Scoreboard==0.4) (2.8.1)\n",
      "Requirement already satisfied, skipping upgrade: beautifulsoup4 in /home/osman.yogurtcu/anaconda3/lib/python3.7/site-packages (from bs4->Scoreboard==0.4) (4.9.0)\n",
      "Requirement already satisfied, skipping upgrade: pyparsing!=2.0.4,!=2.1.2,!=2.1.6,>=2.0.1 in /home/osman.yogurtcu/anaconda3/lib/python3.7/site-packages (from matplotlib>=3.0->Scoreboard==0.4) (2.4.7)\n",
      "Requirement already satisfied, skipping upgrade: cycler>=0.10 in /home/osman.yogurtcu/anaconda3/lib/python3.7/site-packages (from matplotlib>=3.0->Scoreboard==0.4) (0.10.0)\n",
      "Requirement already satisfied, skipping upgrade: kiwisolver>=1.0.1 in /home/osman.yogurtcu/anaconda3/lib/python3.7/site-packages (from matplotlib>=3.0->Scoreboard==0.4) (1.2.0)\n",
      "Requirement already satisfied, skipping upgrade: pytz>=2017.2 in /home/osman.yogurtcu/anaconda3/lib/python3.7/site-packages (from pandas>=1.0->Scoreboard==0.4) (2020.1)\n",
      "Requirement already satisfied, skipping upgrade: jupyter-client in /home/osman.yogurtcu/anaconda3/lib/python3.7/site-packages (from papermill->Scoreboard==0.4) (5.3.4)\n",
      "Requirement already satisfied, skipping upgrade: pyyaml in /home/osman.yogurtcu/anaconda3/lib/python3.7/site-packages (from papermill->Scoreboard==0.4) (5.3)\n",
      "Requirement already satisfied, skipping upgrade: ansiwrap in /home/osman.yogurtcu/anaconda3/lib/python3.7/site-packages (from papermill->Scoreboard==0.4) (0.8.4)\n",
      "Requirement already satisfied, skipping upgrade: black in /home/osman.yogurtcu/anaconda3/lib/python3.7/site-packages (from papermill->Scoreboard==0.4) (19.10b0)\n",
      "Requirement already satisfied, skipping upgrade: nbformat in /home/osman.yogurtcu/anaconda3/lib/python3.7/site-packages (from papermill->Scoreboard==0.4) (5.0.4)\n",
      "Requirement already satisfied, skipping upgrade: tenacity in /home/osman.yogurtcu/anaconda3/lib/python3.7/site-packages (from papermill->Scoreboard==0.4) (6.2.0)\n",
      "Requirement already satisfied, skipping upgrade: click in /home/osman.yogurtcu/anaconda3/lib/python3.7/site-packages (from papermill->Scoreboard==0.4) (7.0)\n",
      "Requirement already satisfied, skipping upgrade: requests in /home/osman.yogurtcu/anaconda3/lib/python3.7/site-packages (from papermill->Scoreboard==0.4) (2.22.0)\n",
      "Requirement already satisfied, skipping upgrade: nbclient>=0.2.0 in /home/osman.yogurtcu/anaconda3/lib/python3.7/site-packages (from papermill->Scoreboard==0.4) (0.2.0)\n",
      "Requirement already satisfied, skipping upgrade: entrypoints in /home/osman.yogurtcu/anaconda3/lib/python3.7/site-packages (from papermill->Scoreboard==0.4) (0.3)\n",
      "Requirement already satisfied, skipping upgrade: six in /home/osman.yogurtcu/anaconda3/lib/python3.7/site-packages (from p_tqdm->Scoreboard==0.4) (1.14.0)\n",
      "Requirement already satisfied, skipping upgrade: pathos in /home/osman.yogurtcu/anaconda3/lib/python3.7/site-packages (from p_tqdm->Scoreboard==0.4) (0.2.5)\n",
      "Requirement already satisfied, skipping upgrade: importlib-metadata>=0.5; python_version < \"3.8\" in /home/osman.yogurtcu/anaconda3/lib/python3.7/site-packages (from path>=13.1.0->Scoreboard==0.4) (1.5.0)\n",
      "Requirement already satisfied, skipping upgrade: soupsieve>1.2 in /home/osman.yogurtcu/anaconda3/lib/python3.7/site-packages (from beautifulsoup4->bs4->Scoreboard==0.4) (2.0)\n",
      "Requirement already satisfied, skipping upgrade: jupyter-core>=4.6.0 in /home/osman.yogurtcu/anaconda3/lib/python3.7/site-packages (from jupyter-client->papermill->Scoreboard==0.4) (4.6.1)\n",
      "Requirement already satisfied, skipping upgrade: tornado>=4.1 in /home/osman.yogurtcu/anaconda3/lib/python3.7/site-packages (from jupyter-client->papermill->Scoreboard==0.4) (6.0.3)\n",
      "Requirement already satisfied, skipping upgrade: pyzmq>=13 in /home/osman.yogurtcu/anaconda3/lib/python3.7/site-packages (from jupyter-client->papermill->Scoreboard==0.4) (18.1.1)\n",
      "Requirement already satisfied, skipping upgrade: traitlets in /home/osman.yogurtcu/anaconda3/lib/python3.7/site-packages (from jupyter-client->papermill->Scoreboard==0.4) (4.3.3)\n",
      "Requirement already satisfied, skipping upgrade: textwrap3>=0.9.2 in /home/osman.yogurtcu/anaconda3/lib/python3.7/site-packages (from ansiwrap->papermill->Scoreboard==0.4) (0.9.2)\n",
      "Requirement already satisfied, skipping upgrade: regex in /home/osman.yogurtcu/anaconda3/lib/python3.7/site-packages (from black->papermill->Scoreboard==0.4) (2020.4.4)\n",
      "Requirement already satisfied, skipping upgrade: toml>=0.9.4 in /home/osman.yogurtcu/anaconda3/lib/python3.7/site-packages (from black->papermill->Scoreboard==0.4) (0.10.0)\n",
      "Requirement already satisfied, skipping upgrade: appdirs in /home/osman.yogurtcu/anaconda3/lib/python3.7/site-packages (from black->papermill->Scoreboard==0.4) (1.4.3)\n",
      "Requirement already satisfied, skipping upgrade: attrs>=18.1.0 in /home/osman.yogurtcu/anaconda3/lib/python3.7/site-packages (from black->papermill->Scoreboard==0.4) (19.3.0)\n",
      "Requirement already satisfied, skipping upgrade: typed-ast>=1.4.0 in /home/osman.yogurtcu/anaconda3/lib/python3.7/site-packages (from black->papermill->Scoreboard==0.4) (1.4.1)\n",
      "Requirement already satisfied, skipping upgrade: ipython-genutils in /home/osman.yogurtcu/anaconda3/lib/python3.7/site-packages (from nbformat->papermill->Scoreboard==0.4) (0.2.0)\n",
      "Requirement already satisfied, skipping upgrade: jsonschema!=2.5.0,>=2.4 in /home/osman.yogurtcu/anaconda3/lib/python3.7/site-packages (from nbformat->papermill->Scoreboard==0.4) (3.2.0)\n",
      "Requirement already satisfied, skipping upgrade: urllib3!=1.25.0,!=1.25.1,<1.26,>=1.21.1 in /home/osman.yogurtcu/anaconda3/lib/python3.7/site-packages (from requests->papermill->Scoreboard==0.4) (1.25.8)\n",
      "Requirement already satisfied, skipping upgrade: chardet<3.1.0,>=3.0.2 in /home/osman.yogurtcu/anaconda3/lib/python3.7/site-packages (from requests->papermill->Scoreboard==0.4) (3.0.4)\n",
      "Requirement already satisfied, skipping upgrade: certifi>=2017.4.17 in /home/osman.yogurtcu/anaconda3/lib/python3.7/site-packages (from requests->papermill->Scoreboard==0.4) (2019.11.28)\n",
      "Requirement already satisfied, skipping upgrade: idna<2.9,>=2.5 in /home/osman.yogurtcu/anaconda3/lib/python3.7/site-packages (from requests->papermill->Scoreboard==0.4) (2.8)\n",
      "Requirement already satisfied, skipping upgrade: nest-asyncio in /home/osman.yogurtcu/anaconda3/lib/python3.7/site-packages (from nbclient>=0.2.0->papermill->Scoreboard==0.4) (1.3.3)\n",
      "Requirement already satisfied, skipping upgrade: async-generator in /home/osman.yogurtcu/anaconda3/lib/python3.7/site-packages (from nbclient>=0.2.0->papermill->Scoreboard==0.4) (1.10)\n",
      "Requirement already satisfied, skipping upgrade: dill>=0.3.1 in /home/osman.yogurtcu/anaconda3/lib/python3.7/site-packages (from pathos->p_tqdm->Scoreboard==0.4) (0.3.1.1)\n",
      "Requirement already satisfied, skipping upgrade: pox>=0.2.7 in /home/osman.yogurtcu/anaconda3/lib/python3.7/site-packages (from pathos->p_tqdm->Scoreboard==0.4) (0.2.7)\n",
      "Requirement already satisfied, skipping upgrade: multiprocess>=0.70.9 in /home/osman.yogurtcu/anaconda3/lib/python3.7/site-packages (from pathos->p_tqdm->Scoreboard==0.4) (0.70.9)\n",
      "Requirement already satisfied, skipping upgrade: ppft>=1.6.6.1 in /home/osman.yogurtcu/anaconda3/lib/python3.7/site-packages (from pathos->p_tqdm->Scoreboard==0.4) (1.6.6.1)\n"
     ]
    },
    {
     "name": "stdout",
     "output_type": "stream",
     "text": [
      "Requirement already satisfied, skipping upgrade: zipp>=0.5 in /home/osman.yogurtcu/anaconda3/lib/python3.7/site-packages (from importlib-metadata>=0.5; python_version < \"3.8\"->path>=13.1.0->Scoreboard==0.4) (2.2.0)\n",
      "Requirement already satisfied, skipping upgrade: decorator in /home/osman.yogurtcu/anaconda3/lib/python3.7/site-packages (from traitlets->jupyter-client->papermill->Scoreboard==0.4) (4.4.1)\n",
      "Requirement already satisfied, skipping upgrade: pyrsistent>=0.14.0 in /home/osman.yogurtcu/anaconda3/lib/python3.7/site-packages (from jsonschema!=2.5.0,>=2.4->nbformat->papermill->Scoreboard==0.4) (0.15.7)\n",
      "Requirement already satisfied, skipping upgrade: setuptools in /home/osman.yogurtcu/anaconda3/lib/python3.7/site-packages (from jsonschema!=2.5.0,>=2.4->nbformat->papermill->Scoreboard==0.4) (46.1.3)\n",
      "Installing collected packages: Scoreboard\n",
      "  Attempting uninstall: Scoreboard\n",
      "    Found existing installation: Scoreboard 0.4\n",
      "    Uninstalling Scoreboard-0.4:\n",
      "      Successfully uninstalled Scoreboard-0.4\n",
      "  Running setup.py develop for Scoreboard\n",
      "Successfully installed Scoreboard\n"
     ]
    }
   ],
   "source": [
    "!pip install --upgrade -e ."
   ]
  },
  {
   "cell_type": "code",
   "execution_count": 4,
   "metadata": {},
   "outputs": [],
   "source": [
    "os.chdir(mypwd[0])"
   ]
  },
  {
   "cell_type": "code",
   "execution_count": 5,
   "metadata": {},
   "outputs": [
    {
     "name": "stdout",
     "output_type": "stream",
     "text": [
      "/home/osman.yogurtcu/Documents/Projects/Python/Scoreboard/Notebooks\r\n"
     ]
    }
   ],
   "source": [
    "!pwd"
   ]
  },
  {
   "cell_type": "markdown",
   "metadata": {},
   "source": [
    "# IMPORTS"
   ]
  },
  {
   "cell_type": "code",
   "execution_count": 6,
   "metadata": {},
   "outputs": [],
   "source": [
    "import Scoreboard19 as S19\n",
    "from tqdm import tqdm\n",
    "import scipy.interpolate\n",
    "import pandas as pd\n",
    "import numpy as np\n",
    "from datetime import date, datetime, timedelta\n",
    "import matplotlib.pyplot as plt\n",
    "import matplotlib.ticker as ticker\n",
    "import matplotlib.pylab as pl\n",
    "import matplotlib.dates as mdates\n",
    "import shutil\n",
    "import glob"
   ]
  },
  {
   "cell_type": "markdown",
   "metadata": {},
   "source": [
    "# READ FORECASTS FROM COVID HUB"
   ]
  },
  {
   "cell_type": "code",
   "execution_count": 7,
   "metadata": {},
   "outputs": [],
   "source": [
    "newPath = shutil.copy('../Rcode/read_processed_dataONY.R', \n",
    "                      covidhubdir)\n",
    "os.chdir(covidhubdir)"
   ]
  },
  {
   "cell_type": "code",
   "execution_count": 8,
   "metadata": {},
   "outputs": [
    {
     "name": "stdout",
     "output_type": "stream",
     "text": [
      "rm: cannot remove '*.csv': No such file or directory\r\n"
     ]
    }
   ],
   "source": [
    "rm *.csv"
   ]
  },
  {
   "cell_type": "code",
   "execution_count": 9,
   "metadata": {},
   "outputs": [
    {
     "name": "stdout",
     "output_type": "stream",
     "text": [
      "/home/osman.yogurtcu/Documents/Projects/Python/covid19-forecast-hub\n"
     ]
    }
   ],
   "source": [
    "cd .."
   ]
  },
  {
   "cell_type": "code",
   "execution_count": 10,
   "metadata": {},
   "outputs": [
    {
     "name": "stdout",
     "output_type": "stream",
     "text": [
      "Already up to date.\r\n"
     ]
    }
   ],
   "source": [
    "# !git fetch origin\n",
    "# !git reset --hard origin/master\n",
    "!git pull"
   ]
  },
  {
   "cell_type": "code",
   "execution_count": 11,
   "metadata": {},
   "outputs": [
    {
     "name": "stdout",
     "output_type": "stream",
     "text": [
      "/home/osman.yogurtcu/Documents/Projects/Python/covid19-forecast-hub/data-processed\n"
     ]
    }
   ],
   "source": [
    "cd data-processed"
   ]
  },
  {
   "cell_type": "code",
   "execution_count": 12,
   "metadata": {},
   "outputs": [
    {
     "name": "stdout",
     "output_type": "stream",
     "text": [
      "\r\n",
      "Attaching package: ‘dplyr’\r\n",
      "\r\n",
      "The following objects are masked from ‘package:stats’:\r\n",
      "\r\n",
      "    filter, lag\r\n",
      "\r\n",
      "The following objects are masked from ‘package:base’:\r\n",
      "\r\n",
      "    intersect, setdiff, setequal, union\r\n",
      "\r\n"
     ]
    }
   ],
   "source": [
    "#Read forecasts in COVID-19 Forecast Hub - this step takes some time\n",
    "!Rscript read_processed_dataONY.R"
   ]
  },
  {
   "cell_type": "code",
   "execution_count": 13,
   "metadata": {},
   "outputs": [],
   "source": [
    "files = glob.iglob(os.path.join(os.getcwd(), \"*.osf\"))\n",
    "for file in files:\n",
    "    if os.path.isfile(file):\n",
    "        shutil.copy2(file, mypwd[0])"
   ]
  },
  {
   "cell_type": "code",
   "execution_count": 14,
   "metadata": {},
   "outputs": [],
   "source": [
    "os.chdir(mypwd[0])\n",
    "\n",
    "files = glob.iglob(os.path.join(os.getcwd(), \"*.osf\"))\n",
    "for file in files:\n",
    "    if os.path.isfile(file):\n",
    "        shutil.move(os.path.join(os.getcwd(), file), os.path.join(gitdir + '/' + 'Data/', file))        \n",
    "\n",
    "os.chdir(gitdir + '/' + 'Data/')        \n",
    "outfilename = 'all_dataONY.csv'\n",
    "find = 0\n",
    "        \n",
    "with open(outfilename, 'wb') as outfile:\n",
    "    for filename in glob.glob('*.osf'):\n",
    "        find += 1\n",
    "        if filename == outfilename:\n",
    "            # don't want to copy the output into the output\n",
    "            continue\n",
    "        with open(filename, 'rb') as readfile:\n",
    "            if find != 1:\n",
    "                readfile.readline()  # Throw away header on all but first file\n",
    "            shutil.copyfileobj(readfile, outfile)        \n",
    "            \n",
    "os.chdir(mypwd[0])            "
   ]
  },
  {
   "cell_type": "markdown",
   "metadata": {},
   "source": [
    "# BUILD SCOREBOARD"
   ]
  },
  {
   "cell_type": "markdown",
   "metadata": {},
   "source": [
    "## BUILD SCOREBOARD FOR INCIDENTAL CASES"
   ]
  },
  {
   "cell_type": "code",
   "execution_count": 15,
   "metadata": {},
   "outputs": [
    {
     "ename": "NameError",
     "evalue": "name 'fig' is not defined",
     "output_type": "error",
     "traceback": [
      "\u001b[0;31m---------------------------------------------------------------------------\u001b[0m",
      "\u001b[0;31mNameError\u001b[0m                                 Traceback (most recent call last)",
      "\u001b[0;32m<ipython-input-15-16ff5ef18984>\u001b[0m in \u001b[0;36m<module>\u001b[0;34m\u001b[0m\n\u001b[1;32m      1\u001b[0m \u001b[0mUS_cases\u001b[0m \u001b[0;34m=\u001b[0m \u001b[0mS19\u001b[0m\u001b[0;34m.\u001b[0m\u001b[0mreadobservedcases\u001b[0m\u001b[0;34m(\u001b[0m\u001b[0;34m)\u001b[0m\u001b[0;34m\u001b[0m\u001b[0;34m\u001b[0m\u001b[0m\n\u001b[0;32m----> 2\u001b[0;31m \u001b[0mS19\u001b[0m\u001b[0;34m.\u001b[0m\u001b[0mplotUSIncCases\u001b[0m\u001b[0;34m(\u001b[0m\u001b[0mUS_cases\u001b[0m\u001b[0;34m,\u001b[0m\u001b[0mfiguresdirectory\u001b[0m\u001b[0;34m)\u001b[0m\u001b[0;34m\u001b[0m\u001b[0;34m\u001b[0m\u001b[0m\n\u001b[0m",
      "\u001b[0;32m~/Documents/Projects/Python/Scoreboard/Scoreboard19/scoresplots.py\u001b[0m in \u001b[0;36mplotUSIncCases\u001b[0;34m(US_cases, figuresdirectory)\u001b[0m\n\u001b[1;32m     51\u001b[0m                 \u001b[0mbbox_inches\u001b[0m \u001b[0;34m=\u001b[0m \u001b[0;34m'tight'\u001b[0m\u001b[0;34m,\u001b[0m\u001b[0;34m\u001b[0m\u001b[0;34m\u001b[0m\u001b[0m\n\u001b[1;32m     52\u001b[0m                 dpi=300)\n\u001b[0;32m---> 53\u001b[0;31m     \u001b[0mplt\u001b[0m\u001b[0;34m.\u001b[0m\u001b[0mshow\u001b[0m\u001b[0;34m(\u001b[0m\u001b[0mfig\u001b[0m\u001b[0;34m)\u001b[0m\u001b[0;34m\u001b[0m\u001b[0;34m\u001b[0m\u001b[0m\n\u001b[0m\u001b[1;32m     54\u001b[0m \u001b[0;34m\u001b[0m\u001b[0m\n\u001b[1;32m     55\u001b[0m \u001b[0;32mdef\u001b[0m \u001b[0mperdelta\u001b[0m\u001b[0;34m(\u001b[0m\u001b[0mstart\u001b[0m\u001b[0;34m,\u001b[0m \u001b[0mend\u001b[0m\u001b[0;34m,\u001b[0m \u001b[0mdelta\u001b[0m\u001b[0;34m)\u001b[0m\u001b[0;34m:\u001b[0m\u001b[0;34m\u001b[0m\u001b[0;34m\u001b[0m\u001b[0m\n",
      "\u001b[0;31mNameError\u001b[0m: name 'fig' is not defined"
     ]
    },
    {
     "data": {
      "image/png": "[encoded data removed]",
      "text/plain": [
       "<Figure size 720x450 with 1 Axes>"
      ]
     },
     "metadata": {},
     "output_type": "display_data"
    }
   ],
   "source": [
    "US_cases = S19.readobservedcases()\n",
    "S19.plotUSIncCases(US_cases,figuresdirectory)"
   ]
  },
  {
   "cell_type": "code",
   "execution_count": null,
   "metadata": {},
   "outputs": [],
   "source": [
    "FirstForecasts = S19.getscoreboard(US_cases,'Case','../Data/ScoreboardCases.pkl')"
   ]
  },
  {
   "cell_type": "code",
   "execution_count": null,
   "metadata": {},
   "outputs": [],
   "source": [
    "S19.numberofteamsincovidhub(FirstForecasts,figuresdirectory)"
   ]
  },
  {
   "cell_type": "code",
   "execution_count": null,
   "metadata": {},
   "outputs": [],
   "source": [
    "ScoreboardCases = pd.read_pickle('../Data/ScoreboardCases.pkl')\n",
    "S19.plotdifferencescdfpdf(ScoreboardCases,'Case')\n",
    "modeltypesCases = S19.getmodeltypes(ScoreboardCases)"
   ]
  },
  {
   "cell_type": "code",
   "execution_count": null,
   "metadata": {},
   "outputs": [],
   "source": [
    "%%capture cap --no-stderr\n",
    "themodels = ScoreboardCases['model'].unique()\n",
    "for i in range(0,len(themodels)):\n",
    "    print(themodels[i])"
   ]
  },
  {
   "cell_type": "code",
   "execution_count": null,
   "metadata": {},
   "outputs": [],
   "source": [
    "#Writing out all the models in the scoreboard into a text file\n",
    "with open('../INCCASE_Models.txt', 'w') as f:\n",
    "    f.write(cap.stdout)"
   ]
  },
  {
   "cell_type": "code",
   "execution_count": null,
   "metadata": {},
   "outputs": [],
   "source": [
    "#Eliminate scores that do not have the proper score quantiles\n",
    "delete_row = ScoreboardCases[ScoreboardCases[\"proper\"]==False].index\n",
    "ScoreboardCases.drop(delete_row,inplace=True)"
   ]
  },
  {
   "cell_type": "code",
   "execution_count": null,
   "metadata": {},
   "outputs": [],
   "source": [
    "S19.plotallscoresdist(ScoreboardCases,figuresdirectory,'Case')"
   ]
  },
  {
   "cell_type": "code",
   "execution_count": null,
   "metadata": {},
   "outputs": [],
   "source": [
    "int(ScoreboardCases['deltaW'].max())"
   ]
  },
  {
   "cell_type": "code",
   "execution_count": null,
   "metadata": {},
   "outputs": [],
   "source": [
    "S19.plotlongitudinalALL(US_cases,ScoreboardCases,'Cases',1)"
   ]
  },
  {
   "cell_type": "code",
   "execution_count": null,
   "metadata": {},
   "outputs": [],
   "source": [
    "S19.plotlongitudinalALL(US_cases,ScoreboardCases,'Cases',4)"
   ]
  },
  {
   "cell_type": "code",
   "execution_count": null,
   "metadata": {},
   "outputs": [],
   "source": [
    "#ScoreboardDeaths[ScoreboardDeaths['model']=='BPagano:RtDriven']"
   ]
  },
  {
   "cell_type": "code",
   "execution_count": null,
   "metadata": {},
   "outputs": [],
   "source": [
    "S19.plotlongitudinal(US_cases,ScoreboardCases,'Cases',1,'BPagano:RtDriven')"
   ]
  },
  {
   "cell_type": "code",
   "execution_count": null,
   "metadata": {},
   "outputs": [],
   "source": [
    "S19.plotlongitudinal(US_cases,ScoreboardCases,'Cases',1,'COVIDhub:ensemble')"
   ]
  },
  {
   "cell_type": "code",
   "execution_count": null,
   "metadata": {},
   "outputs": [],
   "source": [
    "S19.plotlongitudinal(US_cases,ScoreboardCases,'Cases',1,'COVIDhub:baseline')"
   ]
  },
  {
   "cell_type": "code",
   "execution_count": null,
   "metadata": {},
   "outputs": [],
   "source": [
    "S19.plotlongitudinal(US_cases,ScoreboardCases,'Cases',1,'CEID:Walk')"
   ]
  },
  {
   "cell_type": "markdown",
   "metadata": {},
   "source": [
    "## BUILD SCOREBOARD FOR CUMULATIVE DEATHS"
   ]
  },
  {
   "cell_type": "code",
   "execution_count": null,
   "metadata": {},
   "outputs": [],
   "source": [
    "US_deaths = S19.readobserveddeaths()\n",
    "S19.plotUSCumDeaths(US_deaths,figuresdirectory)"
   ]
  },
  {
   "cell_type": "code",
   "execution_count": null,
   "metadata": {},
   "outputs": [],
   "source": [
    "FirstForecasts = S19.getscoreboard(US_deaths,'Death','../Data/ScoreboardDeaths.pkl')"
   ]
  },
  {
   "cell_type": "code",
   "execution_count": null,
   "metadata": {},
   "outputs": [],
   "source": [
    "S19.numberofteamsincovidhub(FirstForecasts,figuresdirectory)"
   ]
  },
  {
   "cell_type": "code",
   "execution_count": null,
   "metadata": {},
   "outputs": [],
   "source": [
    "ScoreboardDeaths = pd.read_pickle('../Data/ScoreboardDeaths.pkl')\n",
    "S19.plotdifferencescdfpdf(ScoreboardDeaths,'Death')\n",
    "modeltypesDeaths = S19.getmodeltypes(ScoreboardDeaths)"
   ]
  },
  {
   "cell_type": "code",
   "execution_count": null,
   "metadata": {},
   "outputs": [],
   "source": [
    "%%capture cap --no-stderr\n",
    "themodels = ScoreboardDeaths['model'].unique()\n",
    "for i in range(0,len(themodels)):\n",
    "    print(themodels[i])"
   ]
  },
  {
   "cell_type": "code",
   "execution_count": null,
   "metadata": {},
   "outputs": [],
   "source": [
    "#Writing out all the models in the scoreboard into a text file\n",
    "with open('../CUMDEATH_Models.txt', 'w') as f:\n",
    "    f.write(cap.stdout)"
   ]
  },
  {
   "cell_type": "code",
   "execution_count": null,
   "metadata": {},
   "outputs": [],
   "source": [
    "#Eliminate scores that do not have the proper score quantiles\n",
    "delete_row = ScoreboardDeaths[ScoreboardDeaths[\"proper\"]==False].index\n",
    "ScoreboardDeaths.drop(delete_row,inplace=True)"
   ]
  },
  {
   "cell_type": "code",
   "execution_count": null,
   "metadata": {},
   "outputs": [],
   "source": [
    "S19.plotallscoresdist(ScoreboardDeaths,figuresdirectory,'Death')"
   ]
  },
  {
   "cell_type": "code",
   "execution_count": null,
   "metadata": {},
   "outputs": [],
   "source": [
    "S19.plotlongitudinalALL(US_deaths,ScoreboardDeaths,'Deaths',1)"
   ]
  },
  {
   "cell_type": "code",
   "execution_count": null,
   "metadata": {},
   "outputs": [],
   "source": [
    "S19.plotlongitudinalALL(US_deaths,ScoreboardDeaths,'Deaths',4)"
   ]
  },
  {
   "cell_type": "code",
   "execution_count": null,
   "metadata": {},
   "outputs": [],
   "source": [
    "S19.plotlongitudinal(US_deaths,ScoreboardDeaths,'Deaths',1,'BPagano:RtDriven')"
   ]
  },
  {
   "cell_type": "code",
   "execution_count": null,
   "metadata": {},
   "outputs": [],
   "source": [
    "S19.plotlongitudinal(US_deaths,ScoreboardDeaths,'Deaths',1,'COVIDhub:baseline')"
   ]
  },
  {
   "cell_type": "code",
   "execution_count": null,
   "metadata": {},
   "outputs": [],
   "source": [
    "S19.plotlongitudinal(US_deaths,ScoreboardDeaths,'Deaths',4,'COVIDhub:baseline')"
   ]
  },
  {
   "cell_type": "markdown",
   "metadata": {},
   "source": [
    "# Get weighted and unweighted model forecasts"
   ]
  },
  {
   "cell_type": "code",
   "execution_count": null,
   "metadata": {},
   "outputs": [],
   "source": [
    "ScoreboardCases = S19.getweightedmodelalldates(ScoreboardCases,'2020-08-01','Cases',4,'weighted')\n",
    "ScoreboardDeaths = S19.getweightedmodelalldates(ScoreboardDeaths,'2020-08-01','Deaths',4,'weighted')\n",
    "ScoreboardCases = S19.getweightedmodelalldates(ScoreboardCases,'2020-08-01','Cases',4,'unweighted')\n",
    "ScoreboardDeaths = S19.getweightedmodelalldates(ScoreboardDeaths,'2020-08-01','Deaths',4,'unweighted')"
   ]
  },
  {
   "cell_type": "markdown",
   "metadata": {},
   "source": [
    "# UNWEIGHTED FORECASTING"
   ]
  },
  {
   "cell_type": "code",
   "execution_count": null,
   "metadata": {},
   "outputs": [],
   "source": [
    "S19.plotlongitudinal(US_deaths,ScoreboardDeaths,'Deaths',4,'FDANIH:Sunweight')"
   ]
  },
  {
   "cell_type": "code",
   "execution_count": null,
   "metadata": {},
   "outputs": [],
   "source": [
    "S19.plotlongitudinalUNWEIGHTED(US_deaths,ScoreboardDeaths,'Deaths',7)"
   ]
  },
  {
   "cell_type": "code",
   "execution_count": null,
   "metadata": {},
   "outputs": [],
   "source": [
    "S19.plotlongitudinal(US_cases,ScoreboardCases,'Cases',4,'FDANIH:Sunweight')"
   ]
  },
  {
   "cell_type": "code",
   "execution_count": null,
   "metadata": {},
   "outputs": [],
   "source": [
    "S19.plotlongitudinalUNWEIGHTED(US_cases,ScoreboardCases,'Cases',7)"
   ]
  },
  {
   "cell_type": "markdown",
   "metadata": {},
   "source": [
    "# SCORE-WEIGHTED FORECASTING"
   ]
  },
  {
   "cell_type": "markdown",
   "metadata": {},
   "source": [
    "## Deaths"
   ]
  },
  {
   "cell_type": "code",
   "execution_count": null,
   "metadata": {},
   "outputs": [],
   "source": [
    "S19.plotlongitudinal(US_deaths,ScoreboardDeaths,'Deaths',4,'COVIDhub:ensemble')\n",
    "S19.plotlongitudinal(US_deaths,ScoreboardDeaths,'Deaths',4,'FDANIH:Sweight')"
   ]
  },
  {
   "cell_type": "markdown",
   "metadata": {},
   "source": [
    "## Cases"
   ]
  },
  {
   "cell_type": "code",
   "execution_count": null,
   "metadata": {},
   "outputs": [],
   "source": [
    "S19.plotlongitudinal(US_cases,ScoreboardCases,'Cases',4,'COVIDhub:ensemble')\n",
    "S19.plotlongitudinal(US_cases,ScoreboardCases,'Cases',4,'FDANIH:Sweight')"
   ]
  },
  {
   "cell_type": "markdown",
   "metadata": {},
   "source": [
    "# ANALYSIS OF SCORES"
   ]
  },
  {
   "cell_type": "markdown",
   "metadata": {},
   "source": [
    "## Plots by date forecast made"
   ]
  },
  {
   "cell_type": "code",
   "execution_count": null,
   "metadata": {},
   "outputs": [],
   "source": [
    "S19.plotgroupsFD(ScoreboardDeaths, modeltypesDeaths, figuresdirectory, 1, 'Death')"
   ]
  },
  {
   "cell_type": "code",
   "execution_count": null,
   "metadata": {},
   "outputs": [],
   "source": [
    "S19.plotgroupsFD(ScoreboardCases, modeltypesCases, figuresdirectory, 1, 'Case')"
   ]
  },
  {
   "cell_type": "markdown",
   "metadata": {},
   "source": [
    "## Plots by target end date"
   ]
  },
  {
   "cell_type": "code",
   "execution_count": null,
   "metadata": {},
   "outputs": [],
   "source": [
    "S19.plotgroupsTD(ScoreboardDeaths, modeltypesDeaths, figuresdirectory, 'Death')"
   ]
  },
  {
   "cell_type": "code",
   "execution_count": null,
   "metadata": {
    "scrolled": false
   },
   "outputs": [],
   "source": [
    "S19.plotgroupsTD(ScoreboardCases, modeltypesCases, figuresdirectory, 'Case')"
   ]
  },
  {
   "cell_type": "markdown",
   "metadata": {},
   "source": [
    "### ADD TO GITHUB"
   ]
  },
  {
   "cell_type": "code",
   "execution_count": null,
   "metadata": {},
   "outputs": [],
   "source": [
    "os.chdir(gitdir)\n",
    "# #!git remote set-url origin https://github.com/ONYLAB/Scoreboard.git\n",
    "# #!git config credential.helper store\n",
    "#!git stash\n",
    "#!git pull --rebase origin master\n",
    "!git add --all\n",
    "!git commit -am “Update”\n",
    "!git push -u origin master\n",
    "os.chdir(mypwd[0])"
   ]
  },
  {
   "cell_type": "code",
   "execution_count": null,
   "metadata": {},
   "outputs": [],
   "source": []
  }
 ],
 "metadata": {
  "kernelspec": {
   "display_name": "Python 3",
   "language": "python",
   "name": "python3"
  },
  "language_info": {
   "codemirror_mode": {
    "name": "ipython",
    "version": 3
   },
   "file_extension": ".py",
   "mimetype": "text/x-python",
   "name": "python",
   "nbconvert_exporter": "python",
   "pygments_lexer": "ipython3",
   "version": "3.7.6"
  }
 },
 "nbformat": 4,
 "nbformat_minor": 4
}
